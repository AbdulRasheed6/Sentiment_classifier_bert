{
  "cells": [
    {
      "cell_type": "markdown",
      "metadata": {
        "id": "view-in-github",
        "colab_type": "text"
      },
      "source": [
        "<a href=\"https://colab.research.google.com/github/AbdulRasheed6/Sentiment_classifier_bert/blob/main/Sentiment_Classiffier.ipynb\" target=\"_parent\"><img src=\"https://colab.research.google.com/assets/colab-badge.svg\" alt=\"Open In Colab\"/></a>"
      ]
    },
    {
      "cell_type": "markdown",
      "id": "f19fe218-8272-4a78-95dc-b45c7944d26d",
      "metadata": {
        "id": "f19fe218-8272-4a78-95dc-b45c7944d26d"
      },
      "source": [
        "::::# Building and deploying machine learning solutions with Vertex AI\n",
        "\n",
        "\n",
        "\n",
        "\n",
        "\n",
        "\n",
        "\n",
        "\n",
        "\n",
        "\n",
        "\n",
        "\n",
        "\n",
        "\n",
        "\n",
        "\n",
        "\n",
        "\n",
        "\n",
        "\n",
        "\n",
        "\n",
        "\n",
        "\\"
      ]
    },
    {
      "cell_type": "markdown",
      "id": "4908fb9b-2048-48fc-a42c-2fdf76aea51e",
      "metadata": {
        "id": "4908fb9b-2048-48fc-a42c-2fdf76aea51e"
      },
      "source": [
        "## Scenario"
      ]
    },
    {
      "cell_type": "markdown",
      "id": "eefbdce5-4287-4740-bdbd-729d15d8ab7f",
      "metadata": {
        "id": "eefbdce5-4287-4740-bdbd-729d15d8ab7f"
      },
      "source": [
        "You were recently hired as a Machine Learning Engineer at a startup movie review website. Your manager has tasked you with building a machine learning model to classify the sentiment of user movie reviews as positive or negative. These predictions will be used as an input in downstream movie rating systems and to surface top supportive and critical reviews on the movie website application. The challenge: your business requirements are that you have just 6 weeks to productionize a model that achieves great than 75% accuracy to improve upon an existing bootstrapped solution. Furthermore, after doing some exploratory analysis in your startup's data warehouse, you found that you only have a small dataset of 50k text reviews to build a higher performing solution.\n",
        "\n",
        "To build and deploy a high performance machine learning model with limited data quickly, you will walk through training and deploying a custom TensorFlow BERT sentiment classifier for online predictions on Google Cloud's [Vertex AI](https://cloud.google.com/vertex-ai) platform. Vertex AI is Google Cloud's next generation machine learning development platform where you can leverage the latest ML pre-built components and AutoML to significantly enhance your development productivity, scale your workflow and decision making with your data, and accelerate time to value.\n",
        "\n",
        "![Vertex AI: Challenge Lab](./images/vertex-challenge-lab.png \"Vertex Challenge Lab\")\n",
        "\n",
        "First, you will progress through a typical experimentation workflow where you will build your model from pre-trained BERT components from TF-Hub and `tf.keras` classification layers to train and evaluate your model in a Vertex Notebook. You will then package your model code into a Docker container to train on Google Cloud's Vertex AI. Lastly, you will define and run a Kubeflow Pipeline on Vertex Pipelines that trains and deploys your model to a Vertex Endpoint that you will query for online predictions."
      ]
    },
    {
      "cell_type": "markdown",
      "id": "8955d75d-cfa4-43af-8783-d2aec5ae525e",
      "metadata": {
        "id": "8955d75d-cfa4-43af-8783-d2aec5ae525e"
      },
      "source": [
        "## Learning objectives"
      ]
    },
    {
      "cell_type": "markdown",
      "id": "b386b37c-2ce1-4b1f-8c90-b83bda6075c8",
      "metadata": {
        "id": "b386b37c-2ce1-4b1f-8c90-b83bda6075c8"
      },
      "source": [
        "* Train a TensorFlow model locally in a hosted [**Vertex Notebook**](https://cloud.google.com/vertex-ai/docs/general/notebooks?hl=sv).\n",
        "* Containerize your training code with [**Cloud Build**](https://cloud.google.com/build) and push it to [**Google Cloud Artifact Registry**](https://cloud.google.com/artifact-registry).\n",
        "* Define a pipeline using the [**Kubeflow Pipelines (KFP) V2 SDK**](https://www.kubeflow.org/docs/components/pipelines/sdk/v2/v2-compatibility) to train and deploy your model on [**Vertex Pipelines**](https://cloud.google.com/vertex-ai/docs/pipelines).\n",
        "* Query your model on a [**Vertex Endpoint**](https://cloud.google.com/vertex-ai/docs/predictions/getting-predictions) using online predictions."
      ]
    },
    {
      "cell_type": "markdown",
      "id": "9d23538a-e809-4747-9bd4-5610f8544ea1",
      "metadata": {
        "id": "9d23538a-e809-4747-9bd4-5610f8544ea1"
      },
      "source": [
        "## Setup"
      ]
    },
    {
      "cell_type": "markdown",
      "id": "b344c3de",
      "metadata": {
        "id": "b344c3de"
      },
      "source": [
        "**NOTE: Make sure you have installed the required packages for the lab as specified in the Task 2 > step 3 of the lab instructions.**"
      ]
    },
    {
      "cell_type": "markdown",
      "id": "ee04a090",
      "metadata": {
        "id": "ee04a090"
      },
      "source": [
        "### Install libraries"
      ]
    },
    {
      "cell_type": "code",
      "execution_count": null,
      "id": "f81be8e9",
      "metadata": {
        "tags": [],
        "id": "f81be8e9",
        "outputId": "89d9b465-71a3-4d1d-cb7a-bfa0adddcad2"
      },
      "outputs": [
        {
          "name": "stdout",
          "output_type": "stream",
          "text": [
            "Collecting google-cloud-bigquery==3.25.0\n",
            "  Downloading google_cloud_bigquery-3.25.0-py2.py3-none-any.whl.metadata (8.9 kB)\n",
            "Requirement already satisfied: google-api-core!=2.0.*,!=2.1.*,!=2.10.*,!=2.2.*,!=2.3.*,!=2.4.*,!=2.5.*,!=2.6.*,!=2.7.*,!=2.8.*,!=2.9.*,<3.0.0dev,>=1.34.1 in ./.local/lib/python3.10/site-packages (from google-api-core[grpc]!=2.0.*,!=2.1.*,!=2.10.*,!=2.2.*,!=2.3.*,!=2.4.*,!=2.5.*,!=2.6.*,!=2.7.*,!=2.8.*,!=2.9.*,<3.0.0dev,>=1.34.1->google-cloud-bigquery==3.25.0) (2.11.0)\n",
            "Requirement already satisfied: google-auth<3.0.0dev,>=2.14.1 in /opt/conda/lib/python3.10/site-packages (from google-cloud-bigquery==3.25.0) (2.36.0)\n",
            "Requirement already satisfied: google-cloud-core<3.0.0dev,>=1.6.0 in /opt/conda/lib/python3.10/site-packages (from google-cloud-bigquery==3.25.0) (2.4.1)\n",
            "Requirement already satisfied: google-resumable-media<3.0dev,>=0.6.0 in /opt/conda/lib/python3.10/site-packages (from google-cloud-bigquery==3.25.0) (2.7.2)\n",
            "Requirement already satisfied: packaging>=20.0.0 in ./.local/lib/python3.10/site-packages (from google-cloud-bigquery==3.25.0) (21.3)\n",
            "Requirement already satisfied: python-dateutil<3.0dev,>=2.7.2 in /opt/conda/lib/python3.10/site-packages (from google-cloud-bigquery==3.25.0) (2.9.0.post0)\n",
            "Requirement already satisfied: requests<3.0.0dev,>=2.21.0 in /opt/conda/lib/python3.10/site-packages (from google-cloud-bigquery==3.25.0) (2.32.3)\n",
            "Requirement already satisfied: googleapis-common-protos<2.0dev,>=1.56.2 in ./.local/lib/python3.10/site-packages (from google-api-core!=2.0.*,!=2.1.*,!=2.10.*,!=2.2.*,!=2.3.*,!=2.4.*,!=2.5.*,!=2.6.*,!=2.7.*,!=2.8.*,!=2.9.*,<3.0.0dev,>=1.34.1->google-api-core[grpc]!=2.0.*,!=2.1.*,!=2.10.*,!=2.2.*,!=2.3.*,!=2.4.*,!=2.5.*,!=2.6.*,!=2.7.*,!=2.8.*,!=2.9.*,<3.0.0dev,>=1.34.1->google-cloud-bigquery==3.25.0) (1.58.0)\n",
            "Requirement already satisfied: protobuf!=3.20.0,!=3.20.1,!=4.21.0,!=4.21.1,!=4.21.2,!=4.21.3,!=4.21.4,!=4.21.5,<5.0.0dev,>=3.19.5 in /opt/conda/lib/python3.10/site-packages (from google-api-core!=2.0.*,!=2.1.*,!=2.10.*,!=2.2.*,!=2.3.*,!=2.4.*,!=2.5.*,!=2.6.*,!=2.7.*,!=2.8.*,!=2.9.*,<3.0.0dev,>=1.34.1->google-api-core[grpc]!=2.0.*,!=2.1.*,!=2.10.*,!=2.2.*,!=2.3.*,!=2.4.*,!=2.5.*,!=2.6.*,!=2.7.*,!=2.8.*,!=2.9.*,<3.0.0dev,>=1.34.1->google-cloud-bigquery==3.25.0) (3.20.3)\n",
            "Requirement already satisfied: grpcio<2.0dev,>=1.33.2 in /opt/conda/lib/python3.10/site-packages (from google-api-core[grpc]!=2.0.*,!=2.1.*,!=2.10.*,!=2.2.*,!=2.3.*,!=2.4.*,!=2.5.*,!=2.6.*,!=2.7.*,!=2.8.*,!=2.9.*,<3.0.0dev,>=1.34.1->google-cloud-bigquery==3.25.0) (1.68.0)\n",
            "Requirement already satisfied: grpcio-status<2.0dev,>=1.33.2 in ./.local/lib/python3.10/site-packages (from google-api-core[grpc]!=2.0.*,!=2.1.*,!=2.10.*,!=2.2.*,!=2.3.*,!=2.4.*,!=2.5.*,!=2.6.*,!=2.7.*,!=2.8.*,!=2.9.*,<3.0.0dev,>=1.34.1->google-cloud-bigquery==3.25.0) (1.47.0)\n",
            "Requirement already satisfied: cachetools<6.0,>=2.0.0 in /opt/conda/lib/python3.10/site-packages (from google-auth<3.0.0dev,>=2.14.1->google-cloud-bigquery==3.25.0) (5.5.0)\n",
            "Requirement already satisfied: pyasn1-modules>=0.2.1 in /opt/conda/lib/python3.10/site-packages (from google-auth<3.0.0dev,>=2.14.1->google-cloud-bigquery==3.25.0) (0.4.1)\n",
            "Requirement already satisfied: rsa<5,>=3.1.4 in /opt/conda/lib/python3.10/site-packages (from google-auth<3.0.0dev,>=2.14.1->google-cloud-bigquery==3.25.0) (4.9)\n",
            "Requirement already satisfied: google-crc32c<2.0dev,>=1.0 in /opt/conda/lib/python3.10/site-packages (from google-resumable-media<3.0dev,>=0.6.0->google-cloud-bigquery==3.25.0) (1.6.0)\n",
            "Requirement already satisfied: pyparsing!=3.0.5,>=2.0.2 in /opt/conda/lib/python3.10/site-packages (from packaging>=20.0.0->google-cloud-bigquery==3.25.0) (3.2.0)\n",
            "Requirement already satisfied: six>=1.5 in /opt/conda/lib/python3.10/site-packages (from python-dateutil<3.0dev,>=2.7.2->google-cloud-bigquery==3.25.0) (1.16.0)\n",
            "Requirement already satisfied: charset-normalizer<4,>=2 in /opt/conda/lib/python3.10/site-packages (from requests<3.0.0dev,>=2.21.0->google-cloud-bigquery==3.25.0) (3.4.0)\n",
            "Requirement already satisfied: idna<4,>=2.5 in /opt/conda/lib/python3.10/site-packages (from requests<3.0.0dev,>=2.21.0->google-cloud-bigquery==3.25.0) (3.10)\n",
            "Requirement already satisfied: urllib3<3,>=1.21.1 in /opt/conda/lib/python3.10/site-packages (from requests<3.0.0dev,>=2.21.0->google-cloud-bigquery==3.25.0) (1.26.20)\n",
            "Requirement already satisfied: certifi>=2017.4.17 in /opt/conda/lib/python3.10/site-packages (from requests<3.0.0dev,>=2.21.0->google-cloud-bigquery==3.25.0) (2024.8.30)\n",
            "Requirement already satisfied: pyasn1<0.7.0,>=0.4.6 in /opt/conda/lib/python3.10/site-packages (from pyasn1-modules>=0.2.1->google-auth<3.0.0dev,>=2.14.1->google-cloud-bigquery==3.25.0) (0.6.1)\n",
            "Downloading google_cloud_bigquery-3.25.0-py2.py3-none-any.whl (239 kB)\n",
            "Installing collected packages: google-cloud-bigquery\n",
            "  Attempting uninstall: google-cloud-bigquery\n",
            "    Found existing installation: google-cloud-bigquery 3.4.2\n",
            "    Uninstalling google-cloud-bigquery-3.4.2:\n",
            "      Successfully uninstalled google-cloud-bigquery-3.4.2\n",
            "\u001b[31mERROR: pip's dependency resolver does not currently take into account all the packages that are installed. This behaviour is the source of the following dependency conflicts.\n",
            "bigframes 1.9.0 requires google-cloud-resource-manager>=1.10.3, but you have google-cloud-resource-manager 1.8.1 which is incompatible.\u001b[0m\u001b[31m\n",
            "\u001b[0mSuccessfully installed google-cloud-bigquery-3.25.0\n",
            "Collecting google-cloud-aiplatform==1.59.0\n",
            "  Downloading google_cloud_aiplatform-1.59.0-py2.py3-none-any.whl.metadata (31 kB)\n",
            "Requirement already satisfied: google-api-core!=2.0.*,!=2.1.*,!=2.2.*,!=2.3.*,!=2.4.*,!=2.5.*,!=2.6.*,!=2.7.*,<3.0.0dev,>=1.34.1 in ./.local/lib/python3.10/site-packages (from google-api-core[grpc]!=2.0.*,!=2.1.*,!=2.2.*,!=2.3.*,!=2.4.*,!=2.5.*,!=2.6.*,!=2.7.*,<3.0.0dev,>=1.34.1->google-cloud-aiplatform==1.59.0) (2.11.0)\n",
            "Requirement already satisfied: google-auth<3.0.0dev,>=2.14.1 in /opt/conda/lib/python3.10/site-packages (from google-cloud-aiplatform==1.59.0) (2.36.0)\n",
            "Requirement already satisfied: proto-plus<2.0.0dev,>=1.22.3 in /opt/conda/lib/python3.10/site-packages (from google-cloud-aiplatform==1.59.0) (1.25.0)\n",
            "Requirement already satisfied: protobuf!=3.20.0,!=3.20.1,!=4.21.0,!=4.21.1,!=4.21.2,!=4.21.3,!=4.21.4,!=4.21.5,<5.0.0dev,>=3.19.5 in /opt/conda/lib/python3.10/site-packages (from google-cloud-aiplatform==1.59.0) (3.20.3)\n",
            "Requirement already satisfied: packaging>=14.3 in ./.local/lib/python3.10/site-packages (from google-cloud-aiplatform==1.59.0) (21.3)\n",
            "Requirement already satisfied: google-cloud-storage<3.0.0dev,>=1.32.0 in ./.local/lib/python3.10/site-packages (from google-cloud-aiplatform==1.59.0) (2.7.0)\n",
            "Requirement already satisfied: google-cloud-bigquery!=3.20.0,<4.0.0dev,>=1.15.0 in /opt/conda/lib/python3.10/site-packages (from google-cloud-aiplatform==1.59.0) (3.25.0)\n",
            "Requirement already satisfied: google-cloud-resource-manager<3.0.0dev,>=1.3.3 in ./.local/lib/python3.10/site-packages (from google-cloud-aiplatform==1.59.0) (1.8.1)\n",
            "Requirement already satisfied: shapely<3.0.0dev in ./.local/lib/python3.10/site-packages (from google-cloud-aiplatform==1.59.0) (1.8.5.post1)\n",
            "Requirement already satisfied: pydantic<3 in ./.local/lib/python3.10/site-packages (from google-cloud-aiplatform==1.59.0) (1.10.19)\n",
            "Requirement already satisfied: docstring-parser<1 in /opt/conda/lib/python3.10/site-packages (from google-cloud-aiplatform==1.59.0) (0.16)\n",
            "Requirement already satisfied: googleapis-common-protos<2.0dev,>=1.56.2 in ./.local/lib/python3.10/site-packages (from google-api-core!=2.0.*,!=2.1.*,!=2.2.*,!=2.3.*,!=2.4.*,!=2.5.*,!=2.6.*,!=2.7.*,<3.0.0dev,>=1.34.1->google-api-core[grpc]!=2.0.*,!=2.1.*,!=2.2.*,!=2.3.*,!=2.4.*,!=2.5.*,!=2.6.*,!=2.7.*,<3.0.0dev,>=1.34.1->google-cloud-aiplatform==1.59.0) (1.58.0)\n",
            "Requirement already satisfied: requests<3.0.0dev,>=2.18.0 in /opt/conda/lib/python3.10/site-packages (from google-api-core!=2.0.*,!=2.1.*,!=2.2.*,!=2.3.*,!=2.4.*,!=2.5.*,!=2.6.*,!=2.7.*,<3.0.0dev,>=1.34.1->google-api-core[grpc]!=2.0.*,!=2.1.*,!=2.2.*,!=2.3.*,!=2.4.*,!=2.5.*,!=2.6.*,!=2.7.*,<3.0.0dev,>=1.34.1->google-cloud-aiplatform==1.59.0) (2.32.3)\n",
            "Requirement already satisfied: grpcio<2.0dev,>=1.33.2 in /opt/conda/lib/python3.10/site-packages (from google-api-core[grpc]!=2.0.*,!=2.1.*,!=2.2.*,!=2.3.*,!=2.4.*,!=2.5.*,!=2.6.*,!=2.7.*,<3.0.0dev,>=1.34.1->google-cloud-aiplatform==1.59.0) (1.68.0)\n",
            "Requirement already satisfied: grpcio-status<2.0dev,>=1.33.2 in ./.local/lib/python3.10/site-packages (from google-api-core[grpc]!=2.0.*,!=2.1.*,!=2.2.*,!=2.3.*,!=2.4.*,!=2.5.*,!=2.6.*,!=2.7.*,<3.0.0dev,>=1.34.1->google-cloud-aiplatform==1.59.0) (1.47.0)\n",
            "Requirement already satisfied: cachetools<6.0,>=2.0.0 in /opt/conda/lib/python3.10/site-packages (from google-auth<3.0.0dev,>=2.14.1->google-cloud-aiplatform==1.59.0) (5.5.0)\n",
            "Requirement already satisfied: pyasn1-modules>=0.2.1 in /opt/conda/lib/python3.10/site-packages (from google-auth<3.0.0dev,>=2.14.1->google-cloud-aiplatform==1.59.0) (0.4.1)\n",
            "Requirement already satisfied: rsa<5,>=3.1.4 in /opt/conda/lib/python3.10/site-packages (from google-auth<3.0.0dev,>=2.14.1->google-cloud-aiplatform==1.59.0) (4.9)\n",
            "Requirement already satisfied: google-cloud-core<3.0.0dev,>=1.6.0 in /opt/conda/lib/python3.10/site-packages (from google-cloud-bigquery!=3.20.0,<4.0.0dev,>=1.15.0->google-cloud-aiplatform==1.59.0) (2.4.1)\n",
            "Requirement already satisfied: google-resumable-media<3.0dev,>=0.6.0 in /opt/conda/lib/python3.10/site-packages (from google-cloud-bigquery!=3.20.0,<4.0.0dev,>=1.15.0->google-cloud-aiplatform==1.59.0) (2.7.2)\n",
            "Requirement already satisfied: python-dateutil<3.0dev,>=2.7.2 in /opt/conda/lib/python3.10/site-packages (from google-cloud-bigquery!=3.20.0,<4.0.0dev,>=1.15.0->google-cloud-aiplatform==1.59.0) (2.9.0.post0)\n",
            "Requirement already satisfied: grpc-google-iam-v1<1.0.0dev,>=0.12.4 in /opt/conda/lib/python3.10/site-packages (from google-cloud-resource-manager<3.0.0dev,>=1.3.3->google-cloud-aiplatform==1.59.0) (0.13.1)\n",
            "Requirement already satisfied: pyparsing!=3.0.5,>=2.0.2 in /opt/conda/lib/python3.10/site-packages (from packaging>=14.3->google-cloud-aiplatform==1.59.0) (3.2.0)\n",
            "Requirement already satisfied: typing-extensions>=4.2.0 in ./.local/lib/python3.10/site-packages (from pydantic<3->google-cloud-aiplatform==1.59.0) (4.5.0)\n",
            "Requirement already satisfied: google-crc32c<2.0dev,>=1.0 in /opt/conda/lib/python3.10/site-packages (from google-resumable-media<3.0dev,>=0.6.0->google-cloud-bigquery!=3.20.0,<4.0.0dev,>=1.15.0->google-cloud-aiplatform==1.59.0) (1.6.0)\n",
            "Requirement already satisfied: pyasn1<0.7.0,>=0.4.6 in /opt/conda/lib/python3.10/site-packages (from pyasn1-modules>=0.2.1->google-auth<3.0.0dev,>=2.14.1->google-cloud-aiplatform==1.59.0) (0.6.1)\n",
            "Requirement already satisfied: six>=1.5 in /opt/conda/lib/python3.10/site-packages (from python-dateutil<3.0dev,>=2.7.2->google-cloud-bigquery!=3.20.0,<4.0.0dev,>=1.15.0->google-cloud-aiplatform==1.59.0) (1.16.0)\n",
            "Requirement already satisfied: charset-normalizer<4,>=2 in /opt/conda/lib/python3.10/site-packages (from requests<3.0.0dev,>=2.18.0->google-api-core!=2.0.*,!=2.1.*,!=2.2.*,!=2.3.*,!=2.4.*,!=2.5.*,!=2.6.*,!=2.7.*,<3.0.0dev,>=1.34.1->google-api-core[grpc]!=2.0.*,!=2.1.*,!=2.2.*,!=2.3.*,!=2.4.*,!=2.5.*,!=2.6.*,!=2.7.*,<3.0.0dev,>=1.34.1->google-cloud-aiplatform==1.59.0) (3.4.0)\n",
            "Requirement already satisfied: idna<4,>=2.5 in /opt/conda/lib/python3.10/site-packages (from requests<3.0.0dev,>=2.18.0->google-api-core!=2.0.*,!=2.1.*,!=2.2.*,!=2.3.*,!=2.4.*,!=2.5.*,!=2.6.*,!=2.7.*,<3.0.0dev,>=1.34.1->google-api-core[grpc]!=2.0.*,!=2.1.*,!=2.2.*,!=2.3.*,!=2.4.*,!=2.5.*,!=2.6.*,!=2.7.*,<3.0.0dev,>=1.34.1->google-cloud-aiplatform==1.59.0) (3.10)\n",
            "Requirement already satisfied: urllib3<3,>=1.21.1 in /opt/conda/lib/python3.10/site-packages (from requests<3.0.0dev,>=2.18.0->google-api-core!=2.0.*,!=2.1.*,!=2.2.*,!=2.3.*,!=2.4.*,!=2.5.*,!=2.6.*,!=2.7.*,<3.0.0dev,>=1.34.1->google-api-core[grpc]!=2.0.*,!=2.1.*,!=2.2.*,!=2.3.*,!=2.4.*,!=2.5.*,!=2.6.*,!=2.7.*,<3.0.0dev,>=1.34.1->google-cloud-aiplatform==1.59.0) (1.26.20)\n",
            "Requirement already satisfied: certifi>=2017.4.17 in /opt/conda/lib/python3.10/site-packages (from requests<3.0.0dev,>=2.18.0->google-api-core!=2.0.*,!=2.1.*,!=2.2.*,!=2.3.*,!=2.4.*,!=2.5.*,!=2.6.*,!=2.7.*,<3.0.0dev,>=1.34.1->google-api-core[grpc]!=2.0.*,!=2.1.*,!=2.2.*,!=2.3.*,!=2.4.*,!=2.5.*,!=2.6.*,!=2.7.*,<3.0.0dev,>=1.34.1->google-cloud-aiplatform==1.59.0) (2024.8.30)\n",
            "Downloading google_cloud_aiplatform-1.59.0-py2.py3-none-any.whl (5.1 MB)\n",
            "\u001b[2K   \u001b[90m━━━━━━━━━━━━━━━━━━━━━━━━━━━━━━━━━━━━━━━━\u001b[0m \u001b[32m5.1/5.1 MB\u001b[0m \u001b[31m70.1 MB/s\u001b[0m eta \u001b[36m0:00:00\u001b[0m\n",
            "\u001b[?25hInstalling collected packages: google-cloud-aiplatform\n",
            "  Attempting uninstall: google-cloud-aiplatform\n",
            "    Found existing installation: google-cloud-aiplatform 1.22.0\n",
            "    Uninstalling google-cloud-aiplatform-1.22.0:\n",
            "      Successfully uninstalled google-cloud-aiplatform-1.22.0\n",
            "Successfully installed google-cloud-aiplatform-1.59.0\n",
            "Found existing installation: Shapely 1.8.5.post1\n",
            "Uninstalling Shapely-1.8.5.post1:\n",
            "  Successfully uninstalled Shapely-1.8.5.post1\n",
            "\u001b[33mWARNING: Skipping pygeos as it is not installed.\u001b[0m\u001b[33m\n",
            "\u001b[0mFound existing installation: geopandas 1.0.1\n",
            "Uninstalling geopandas-1.0.1:\n",
            "  Successfully uninstalled geopandas-1.0.1\n",
            "\u001b[31mERROR: pip's dependency resolver does not currently take into account all the packages that are installed. This behaviour is the source of the following dependency conflicts.\n",
            "bigframes 1.9.0 requires google-cloud-resource-manager>=1.10.3, but you have google-cloud-resource-manager 1.8.1 which is incompatible.\u001b[0m\u001b[31m\n",
            "\u001b[0mCollecting pydot\n",
            "  Downloading pydot-3.0.2-py3-none-any.whl.metadata (10 kB)\n",
            "Requirement already satisfied: pyparsing>=3.0.9 in /opt/conda/lib/python3.10/site-packages (from pydot) (3.2.0)\n",
            "Downloading pydot-3.0.2-py3-none-any.whl (35 kB)\n",
            "Installing collected packages: pydot\n",
            "Successfully installed pydot-3.0.2\n",
            "Reading package lists... Done\n",
            "Building dependency tree... Done\n",
            "Reading state information... Done\n",
            "The following additional packages will be installed:\n",
            "  fonts-liberation libann0 libcdt5 libcgraph6 libgts-0.7-5 libgts-bin libgvc6\n",
            "  libgvpr2 liblab-gamut1 libpathplan4\n",
            "Suggested packages:\n",
            "  gsfonts graphviz-doc\n",
            "The following NEW packages will be installed:\n",
            "  fonts-liberation graphviz libann0 libcdt5 libcgraph6 libgts-0.7-5 libgts-bin\n",
            "  libgvc6 libgvpr2 liblab-gamut1 libpathplan4\n",
            "0 upgraded, 11 newly installed, 0 to remove and 2 not upgraded.\n",
            "Need to get 3034 kB of archives.\n",
            "After this operation, 11.5 MB of additional disk space will be used.\n",
            "Get:1 https://deb.debian.org/debian bullseye/main amd64 fonts-liberation all 1:1.07.4-11 [828 kB]\n",
            "Get:2 https://deb.debian.org/debian bullseye/main amd64 libann0 amd64 1.1.2+doc-7 [25.3 kB]\n",
            "Get:3 https://deb.debian.org/debian bullseye/main amd64 libcdt5 amd64 2.42.2-5+deb11u1 [62.2 kB]\n",
            "Get:4 https://deb.debian.org/debian bullseye/main amd64 libcgraph6 amd64 2.42.2-5+deb11u1 [85.5 kB]\n",
            "Get:5 https://deb.debian.org/debian bullseye/main amd64 libgts-0.7-5 amd64 0.7.6+darcs121130-4+b1 [158 kB]\n",
            "Get:6 https://deb.debian.org/debian bullseye/main amd64 libpathplan4 amd64 2.42.2-5+deb11u1 [64.3 kB]\n",
            "Get:7 https://deb.debian.org/debian bullseye/main amd64 libgvc6 amd64 2.42.2-5+deb11u1 [695 kB]\n",
            "Get:8 https://deb.debian.org/debian bullseye/main amd64 libgvpr2 amd64 2.42.2-5+deb11u1 [212 kB]\n",
            "Get:9 https://deb.debian.org/debian bullseye/main amd64 liblab-gamut1 amd64 2.42.2-5+deb11u1 [221 kB]\n",
            "Get:10 https://deb.debian.org/debian bullseye/main amd64 graphviz amd64 2.42.2-5+deb11u1 [632 kB]\n",
            "Get:11 https://deb.debian.org/debian bullseye/main amd64 libgts-bin amd64 0.7.6+darcs121130-4+b1 [50.3 kB]\n",
            "Fetched 3034 kB in 0s (16.5 MB/s)      \u001b[0m\u001b[33m\n",
            "\n",
            "\u001b7\u001b[0;23r\u001b8\u001b[1ASelecting previously unselected package fonts-liberation.\n",
            "(Reading database ... 139727 files and directories currently installed.)\n",
            "Preparing to unpack .../00-fonts-liberation_1%3a1.07.4-11_all.deb ...\n",
            "\u001b7\u001b[24;0f\u001b[42m\u001b[30mProgress: [  0%]\u001b[49m\u001b[39m [..........................................................] \u001b8\u001b7\u001b[24;0f\u001b[42m\u001b[30mProgress: [  2%]\u001b[49m\u001b[39m [#.........................................................] \u001b8Unpacking fonts-liberation (1:1.07.4-11) ...\n",
            "\u001b7\u001b[24;0f\u001b[42m\u001b[30mProgress: [  4%]\u001b[49m\u001b[39m [##........................................................] \u001b8Selecting previously unselected package libann0.\n",
            "Preparing to unpack .../01-libann0_1.1.2+doc-7_amd64.deb ...\n",
            "\u001b7\u001b[24;0f\u001b[42m\u001b[30mProgress: [  7%]\u001b[49m\u001b[39m [###.......................................................] \u001b8Unpacking libann0 (1.1.2+doc-7) ...\n",
            "\u001b7\u001b[24;0f\u001b[42m\u001b[30mProgress: [  9%]\u001b[49m\u001b[39m [#####.....................................................] \u001b8Selecting previously unselected package libcdt5:amd64.\n",
            "Preparing to unpack .../02-libcdt5_2.42.2-5+deb11u1_amd64.deb ...\n",
            "\u001b7\u001b[24;0f\u001b[42m\u001b[30mProgress: [ 11%]\u001b[49m\u001b[39m [######....................................................] \u001b8Unpacking libcdt5:amd64 (2.42.2-5+deb11u1) ...\n",
            "\u001b7\u001b[24;0f\u001b[42m\u001b[30mProgress: [ 13%]\u001b[49m\u001b[39m [#######...................................................] \u001b8Selecting previously unselected package libcgraph6:amd64.\n",
            "Preparing to unpack .../03-libcgraph6_2.42.2-5+deb11u1_amd64.deb ...\n",
            "\u001b7\u001b[24;0f\u001b[42m\u001b[30mProgress: [ 16%]\u001b[49m\u001b[39m [#########.................................................] \u001b8Unpacking libcgraph6:amd64 (2.42.2-5+deb11u1) ...\n",
            "\u001b7\u001b[24;0f\u001b[42m\u001b[30mProgress: [ 18%]\u001b[49m\u001b[39m [##########................................................] \u001b8Selecting previously unselected package libgts-0.7-5:amd64.\n",
            "Preparing to unpack .../04-libgts-0.7-5_0.7.6+darcs121130-4+b1_amd64.deb ...\n",
            "\u001b7\u001b[24;0f\u001b[42m\u001b[30mProgress: [ 20%]\u001b[49m\u001b[39m [###########...............................................] \u001b8Unpacking libgts-0.7-5:amd64 (0.7.6+darcs121130-4+b1) ...\n",
            "\u001b7\u001b[24;0f\u001b[42m\u001b[30mProgress: [ 22%]\u001b[49m\u001b[39m [############..............................................] \u001b8Selecting previously unselected package libpathplan4:amd64.\n",
            "Preparing to unpack .../05-libpathplan4_2.42.2-5+deb11u1_amd64.deb ...\n",
            "\u001b7\u001b[24;0f\u001b[42m\u001b[30mProgress: [ 24%]\u001b[49m\u001b[39m [##############............................................] \u001b8Unpacking libpathplan4:amd64 (2.42.2-5+deb11u1) ...\n",
            "\u001b7\u001b[24;0f\u001b[42m\u001b[30mProgress: [ 27%]\u001b[49m\u001b[39m [###############...........................................] \u001b8Selecting previously unselected package libgvc6.\n",
            "Preparing to unpack .../06-libgvc6_2.42.2-5+deb11u1_amd64.deb ...\n",
            "\u001b7\u001b[24;0f\u001b[42m\u001b[30mProgress: [ 29%]\u001b[49m\u001b[39m [################..........................................] \u001b8Unpacking libgvc6 (2.42.2-5+deb11u1) ...\n",
            "\u001b7\u001b[24;0f\u001b[42m\u001b[30mProgress: [ 31%]\u001b[49m\u001b[39m [##################........................................] \u001b8Selecting previously unselected package libgvpr2:amd64.\n",
            "Preparing to unpack .../07-libgvpr2_2.42.2-5+deb11u1_amd64.deb ...\n",
            "\u001b7\u001b[24;0f\u001b[42m\u001b[30mProgress: [ 33%]\u001b[49m\u001b[39m [###################.......................................] \u001b8Unpacking libgvpr2:amd64 (2.42.2-5+deb11u1) ...\n",
            "\u001b7\u001b[24;0f\u001b[42m\u001b[30mProgress: [ 36%]\u001b[49m\u001b[39m [####################......................................] \u001b8Selecting previously unselected package liblab-gamut1:amd64.\n",
            "Preparing to unpack .../08-liblab-gamut1_2.42.2-5+deb11u1_amd64.deb ...\n",
            "\u001b7\u001b[24;0f\u001b[42m\u001b[30mProgress: [ 38%]\u001b[49m\u001b[39m [#####################.....................................] \u001b8Unpacking liblab-gamut1:amd64 (2.42.2-5+deb11u1) ...\n",
            "\u001b7\u001b[24;0f\u001b[42m\u001b[30mProgress: [ 40%]\u001b[49m\u001b[39m [#######################...................................] \u001b8Selecting previously unselected package graphviz.\n",
            "Preparing to unpack .../09-graphviz_2.42.2-5+deb11u1_amd64.deb ...\n",
            "\u001b7\u001b[24;0f\u001b[42m\u001b[30mProgress: [ 42%]\u001b[49m\u001b[39m [########################..................................] \u001b8Unpacking graphviz (2.42.2-5+deb11u1) ...\n",
            "\u001b7\u001b[24;0f\u001b[42m\u001b[30mProgress: [ 44%]\u001b[49m\u001b[39m [#########################.................................] \u001b8Selecting previously unselected package libgts-bin.\n",
            "Preparing to unpack .../10-libgts-bin_0.7.6+darcs121130-4+b1_amd64.deb ...\n",
            "\u001b7\u001b[24;0f\u001b[42m\u001b[30mProgress: [ 47%]\u001b[49m\u001b[39m [###########################...............................] \u001b8Unpacking libgts-bin (0.7.6+darcs121130-4+b1) ...\n",
            "\u001b7\u001b[24;0f\u001b[42m\u001b[30mProgress: [ 49%]\u001b[49m\u001b[39m [############################..............................] \u001b8Setting up liblab-gamut1:amd64 (2.42.2-5+deb11u1) ...\n",
            "\u001b7\u001b[24;0f\u001b[42m\u001b[30mProgress: [ 51%]\u001b[49m\u001b[39m [#############################.............................] \u001b8\u001b7\u001b[24;0f\u001b[42m\u001b[30mProgress: [ 53%]\u001b[49m\u001b[39m [##############################............................] \u001b8Setting up libgts-0.7-5:amd64 (0.7.6+darcs121130-4+b1) ...\n",
            "\u001b7\u001b[24;0f\u001b[42m\u001b[30mProgress: [ 56%]\u001b[49m\u001b[39m [################################..........................] \u001b8\u001b7\u001b[24;0f\u001b[42m\u001b[30mProgress: [ 58%]\u001b[49m\u001b[39m [#################################.........................] \u001b8Setting up libpathplan4:amd64 (2.42.2-5+deb11u1) ...\n",
            "\u001b7\u001b[24;0f\u001b[42m\u001b[30mProgress: [ 60%]\u001b[49m\u001b[39m [##################################........................] \u001b8\u001b7\u001b[24;0f\u001b[42m\u001b[30mProgress: [ 62%]\u001b[49m\u001b[39m [####################################......................] \u001b8Setting up libann0 (1.1.2+doc-7) ...\n",
            "\u001b7\u001b[24;0f\u001b[42m\u001b[30mProgress: [ 64%]\u001b[49m\u001b[39m [#####################################.....................] \u001b8\u001b7\u001b[24;0f\u001b[42m\u001b[30mProgress: [ 67%]\u001b[49m\u001b[39m [######################################....................] \u001b8Setting up fonts-liberation (1:1.07.4-11) ...\n",
            "\u001b7\u001b[24;0f\u001b[42m\u001b[30mProgress: [ 69%]\u001b[49m\u001b[39m [#######################################...................] \u001b8\u001b7\u001b[24;0f\u001b[42m\u001b[30mProgress: [ 71%]\u001b[49m\u001b[39m [#########################################.................] \u001b8Setting up libcdt5:amd64 (2.42.2-5+deb11u1) ...\n",
            "\u001b7\u001b[24;0f\u001b[42m\u001b[30mProgress: [ 73%]\u001b[49m\u001b[39m [##########################################................] \u001b8\u001b7\u001b[24;0f\u001b[42m\u001b[30mProgress: [ 76%]\u001b[49m\u001b[39m [###########################################...............] \u001b8Setting up libcgraph6:amd64 (2.42.2-5+deb11u1) ...\n",
            "\u001b7\u001b[24;0f\u001b[42m\u001b[30mProgress: [ 78%]\u001b[49m\u001b[39m [#############################################.............] \u001b8\u001b7\u001b[24;0f\u001b[42m\u001b[30mProgress: [ 80%]\u001b[49m\u001b[39m [##############################################............] \u001b8Setting up libgts-bin (0.7.6+darcs121130-4+b1) ...\n",
            "\u001b7\u001b[24;0f\u001b[42m\u001b[30mProgress: [ 82%]\u001b[49m\u001b[39m [###############################################...........] \u001b8\u001b7\u001b[24;0f\u001b[42m\u001b[30mProgress: [ 84%]\u001b[49m\u001b[39m [################################################..........] \u001b8Setting up libgvc6 (2.42.2-5+deb11u1) ...\n",
            "\u001b7\u001b[24;0f\u001b[42m\u001b[30mProgress: [ 87%]\u001b[49m\u001b[39m [##################################################........] \u001b8\u001b7\u001b[24;0f\u001b[42m\u001b[30mProgress: [ 89%]\u001b[49m\u001b[39m [###################################################.......] \u001b8Setting up libgvpr2:amd64 (2.42.2-5+deb11u1) ...\n",
            "\u001b7\u001b[24;0f\u001b[42m\u001b[30mProgress: [ 91%]\u001b[49m\u001b[39m [####################################################......] \u001b8\u001b7\u001b[24;0f\u001b[42m\u001b[30mProgress: [ 93%]\u001b[49m\u001b[39m [######################################################....] \u001b8Setting up graphviz (2.42.2-5+deb11u1) ...\n",
            "\u001b7\u001b[24;0f\u001b[42m\u001b[30mProgress: [ 96%]\u001b[49m\u001b[39m [#######################################################...] \u001b8\u001b7\u001b[24;0f\u001b[42m\u001b[30mProgress: [ 98%]\u001b[49m\u001b[39m [########################################################..] \u001b8Processing triggers for libc-bin (2.31-13+deb11u11) ...\n",
            "ldconfig: /lib/libnvonnxparser.so.8 is not a symbolic link\n",
            "\n",
            "ldconfig: /lib/libnvinfer_vc_plugin.so.8 is not a symbolic link\n",
            "\n",
            "ldconfig: /lib/libnvinfer_plugin.so.8 is not a symbolic link\n",
            "\n",
            "ldconfig: /lib/libnvinfer_dispatch.so.8 is not a symbolic link\n",
            "\n",
            "ldconfig: /lib/libnvparsers.so.8 is not a symbolic link\n",
            "\n",
            "ldconfig: /lib/libnvinfer_lean.so.8 is not a symbolic link\n",
            "\n",
            "ldconfig: /lib/libnvinfer.so.8 is not a symbolic link\n",
            "\n",
            "Processing triggers for man-db (2.9.4-2) ...\n",
            "Processing triggers for fontconfig (2.13.1-4.2) ...\n",
            "\n",
            "\u001b7\u001b[0;24r\u001b8\u001b[1A\u001b[J"
          ]
        }
      ],
      "source": [
        "!pip3 install google-cloud-bigquery==3.25.0 -U\n",
        "!pip install google-cloud-aiplatform==1.59.0\n",
        "!pip uninstall -y shapely pygeos geopandas\n",
        "!pip install shapely==1.8.5.post1 pygeos==0.12.0 geopandas>=0.12.2\n",
        "# Install pydot and graphviz\n",
        "!pip install pydot\n",
        "!sudo apt install graphviz -y"
      ]
    },
    {
      "cell_type": "markdown",
      "id": "696f3796",
      "metadata": {
        "id": "696f3796"
      },
      "source": [
        "### After installing these packages you'll need to restart the kernel:"
      ]
    },
    {
      "cell_type": "code",
      "execution_count": null,
      "id": "da06064f",
      "metadata": {
        "tags": [],
        "id": "da06064f"
      },
      "outputs": [],
      "source": [
        "import os\n",
        "\n",
        "if not os.getenv(\"IS_TESTING\"):\n",
        "    # Automatically restart kernel after installs\n",
        "    import IPython\n",
        "\n",
        "    app = IPython.Application.instance()\n",
        "    app.kernel.do_shutdown(True)"
      ]
    },
    {
      "cell_type": "markdown",
      "id": "fc37a668",
      "metadata": {
        "id": "fc37a668"
      },
      "source": [
        "### Define constants"
      ]
    },
    {
      "cell_type": "code",
      "execution_count": null,
      "id": "c1ab494b",
      "metadata": {
        "tags": [],
        "id": "c1ab494b",
        "outputId": "c580d10e-a16f-4e34-a7a4-c3a408a36b38"
      },
      "outputs": [
        {
          "name": "stdout",
          "output_type": "stream",
          "text": [
            "env: PATH=/usr/local/cuda/bin:/opt/conda/bin:/opt/conda/condabin:/usr/local/bin:/usr/bin:/bin:/usr/local/games:/usr/games:/home/jupyter/.local/bin\n"
          ]
        }
      ],
      "source": [
        "# Add installed library dependencies to Python PATH variable.\n",
        "PATH=%env PATH\n",
        "%env PATH={PATH}:/home/jupyter/.local/bin"
      ]
    },
    {
      "cell_type": "code",
      "execution_count": null,
      "id": "f68df5dd-c456-4edd-8f58-71597f10c0ae",
      "metadata": {
        "tags": [],
        "id": "f68df5dd-c456-4edd-8f58-71597f10c0ae"
      },
      "outputs": [],
      "source": [
        "# Retrieve and set PROJECT_ID and REGION environment variables.\n",
        "# TODO: Fill in the PROJECT_ID and REGION provided in the lab manual.\n",
        "PROJECT_ID = \"***************\"\n",
        "REGION = \"us-east1\"\n",
        "GCS_BUCKET = f\"gs://{PROJECT_ID}\""
      ]
    },
    {
      "cell_type": "code",
      "execution_count": null,
      "id": "4931ae91-3ba1-437a-9c37-187a41a3d227",
      "metadata": {
        "tags": [],
        "id": "4931ae91-3ba1-437a-9c37-187a41a3d227"
      },
      "outputs": [],
      "source": [
        "!gcloud storage buckets create -l $REGION $GCS_BUCKET"
      ]
    },
    {
      "cell_type": "markdown",
      "id": "d3ebbc2b-21ad-47f0-829f-9beba0deba9d",
      "metadata": {
        "id": "d3ebbc2b-21ad-47f0-829f-9beba0deba9d"
      },
      "source": [
        "### Import libraries"
      ]
    },
    {
      "cell_type": "code",
      "execution_count": null,
      "id": "0bf558fc-d0fc-4452-8281-7d7cd0cffe50",
      "metadata": {
        "tags": [],
        "id": "0bf558fc-d0fc-4452-8281-7d7cd0cffe50"
      },
      "outputs": [],
      "source": [
        "import os\n",
        "import shutil\n",
        "import logging\n",
        "\n",
        "# TensorFlow model building libraries.\n",
        "import tensorflow as tf\n",
        "import tensorflow_text as text\n",
        "import tensorflow_hub as hub\n",
        "\n",
        "# Re-create the AdamW optimizer used in the original BERT paper.\n",
        "from official.nlp import optimization\n",
        "\n",
        "# Libraries for data and plot model training metrics.\n",
        "import pandas as pd\n",
        "import matplotlib.pyplot as plt\n",
        "\n",
        "# Import the Vertex AI Python SDK.\n",
        "from google.cloud import aiplatform as vertexai\n"
      ]
    },
    {
      "cell_type": "markdown",
      "id": "d296167a-13b9-4895-be8b-b3b49fad5d47",
      "metadata": {
        "id": "d296167a-13b9-4895-be8b-b3b49fad5d47"
      },
      "source": [
        "### Initialize Vertex AI Python SDK"
      ]
    },
    {
      "cell_type": "markdown",
      "id": "34c178b0-0edb-4e4b-abb4-d3cc0bd676de",
      "metadata": {
        "id": "34c178b0-0edb-4e4b-abb4-d3cc0bd676de"
      },
      "source": [
        "Initialize the Vertex AI Python SDK with your GCP Project, Region, and Google Cloud Storage Bucket."
      ]
    },
    {
      "cell_type": "code",
      "execution_count": null,
      "id": "3a43371e-2c64-4a76-8698-fa768043dbdd",
      "metadata": {
        "tags": [],
        "id": "3a43371e-2c64-4a76-8698-fa768043dbdd"
      },
      "outputs": [],
      "source": [
        "vertexai.init(project=PROJECT_ID, location=REGION, staging_bucket=GCS_BUCKET)"
      ]
    },
    {
      "cell_type": "markdown",
      "id": "d2917411-811c-46dd-8eda-e8ef579c568d",
      "metadata": {
        "id": "d2917411-811c-46dd-8eda-e8ef579c568d"
      },
      "source": [
        "## Build and train your model locally in a Vertex Notebook"
      ]
    },
    {
      "cell_type": "markdown",
      "id": "8efc8cc5-ed5e-457a-b5f5-475bacca4611",
      "metadata": {
        "id": "8efc8cc5-ed5e-457a-b5f5-475bacca4611"
      },
      "source": [
        "Note: this lab adapts and extends the official [TensorFlow BERT text classification tutorial](https://www.tensorflow.org/text/tutorials/classify_text_with_bert#define_your_model) to utilize Vertex AI services. See the tutorial for additional coverage on fine-tuning BERT models using TensorFlow."
      ]
    },
    {
      "cell_type": "markdown",
      "id": "3338a818-18e5-4b0b-b37d-b387577a08ef",
      "metadata": {
        "id": "3338a818-18e5-4b0b-b37d-b387577a08ef"
      },
      "source": [
        "### Lab dataset"
      ]
    },
    {
      "cell_type": "markdown",
      "id": "1fdfb91d-6060-4d00-a1c3-299ee6027b76",
      "metadata": {
        "id": "1fdfb91d-6060-4d00-a1c3-299ee6027b76"
      },
      "source": [
        "In this lab, you will use the [Large Movie Review Dataset](https://ai.stanford.edu/~amaas/data/sentiment) that contains the text of 50,000 movie reviews from the Internet Movie Database. These are split into 25,000 reviews for training and 25,000 reviews for testing. The training and testing sets are balanced, meaning they contain an equal number of positive and negative reviews. Data ingestion and processing code has been provided for you below:"
      ]
    },
    {
      "cell_type": "markdown",
      "id": "ef491df4-c35f-4555-a6b6-96114c3d3c6e",
      "metadata": {
        "id": "ef491df4-c35f-4555-a6b6-96114c3d3c6e"
      },
      "source": [
        "### Import dataset"
      ]
    },
    {
      "cell_type": "code",
      "execution_count": null,
      "id": "2ee70d2c-c0e3-4c75-9bc6-b42dad6c7267",
      "metadata": {
        "tags": [],
        "id": "2ee70d2c-c0e3-4c75-9bc6-b42dad6c7267"
      },
      "outputs": [],
      "source": [
        "DATA_URL = \"https://ai.stanford.edu/~amaas/data/sentiment/aclImdb_v1.tar.gz\"\n",
        "LOCAL_DATA_DIR = \".\""
      ]
    },
    {
      "cell_type": "code",
      "execution_count": null,
      "id": "c889f275-ce52-4108-9f7f-7cf824184f88",
      "metadata": {
        "tags": [],
        "id": "c889f275-ce52-4108-9f7f-7cf824184f88"
      },
      "outputs": [],
      "source": [
        "def download_data(data_url, local_data_dir):\n",
        "    \"\"\"Download dataset.\n",
        "    Args:\n",
        "      data_url(str): Source data URL path.\n",
        "      local_data_dir(str): Local data download directory path.\n",
        "    Returns:\n",
        "      dataset_dir(str): Local unpacked data directory path.\n",
        "    \"\"\"\n",
        "    if not os.path.exists(local_data_dir):\n",
        "        os.makedirs(local_data_dir)\n",
        "\n",
        "    dataset = tf.keras.utils.get_file(\n",
        "      fname=\"aclImdb_v1.tar.gz\",\n",
        "      origin=data_url,\n",
        "      untar=True,\n",
        "      cache_dir=local_data_dir,\n",
        "      cache_subdir=\"\")\n",
        "\n",
        "    dataset_dir = os.path.join(os.path.dirname(dataset), \"aclImdb\")\n",
        "\n",
        "    train_dir = os.path.join(dataset_dir, \"train\")\n",
        "\n",
        "    # Remove unused folders to make it easier to load the data.\n",
        "    remove_dir = os.path.join(train_dir, \"unsup\")\n",
        "    shutil.rmtree(remove_dir)\n",
        "\n",
        "    return dataset_dir"
      ]
    },
    {
      "cell_type": "code",
      "execution_count": null,
      "id": "98f906a4-64a0-45ae-b376-757ef0f661fc",
      "metadata": {
        "tags": [],
        "id": "98f906a4-64a0-45ae-b376-757ef0f661fc",
        "outputId": "4c671928-b239-4ba2-fded-d5339e56ce13"
      },
      "outputs": [
        {
          "name": "stdout",
          "output_type": "stream",
          "text": [
            "Downloading data from https://ai.stanford.edu/~amaas/data/sentiment/aclImdb_v1.tar.gz\n",
            "84125825/84125825 [==============================] - 17s 0us/step\n"
          ]
        }
      ],
      "source": [
        "DATASET_DIR = download_data(data_url=DATA_URL, local_data_dir=LOCAL_DATA_DIR)"
      ]
    },
    {
      "cell_type": "code",
      "execution_count": null,
      "id": "d95a61fa-cf55-470f-9837-c783c4bcccf8",
      "metadata": {
        "tags": [],
        "id": "d95a61fa-cf55-470f-9837-c783c4bcccf8"
      },
      "outputs": [],
      "source": [
        "# Create a dictionary to iteratively add data pipeline and model training hyperparameters.\n",
        "HPARAMS = {\n",
        "    # Set a random sampling seed to prevent data leakage in data splits from files.\n",
        "    \"seed\": 42,\n",
        "    # Number of training and inference examples.\n",
        "    \"batch-size\": 32\n",
        "}"
      ]
    },
    {
      "cell_type": "code",
      "execution_count": null,
      "id": "9aeea425-d288-44a7-9958-f2b1f48f9c34",
      "metadata": {
        "tags": [],
        "id": "9aeea425-d288-44a7-9958-f2b1f48f9c34"
      },
      "outputs": [],
      "source": [
        "def load_datasets(dataset_dir, hparams):\n",
        "    \"\"\"Load pre-split tf.datasets.\n",
        "    Args:\n",
        "      hparams(dict): A dictionary containing model training arguments.\n",
        "    Returns:\n",
        "      raw_train_ds(tf.dataset): Train split dataset (20k examples).\n",
        "      raw_val_ds(tf.dataset): Validation split dataset (5k examples).\n",
        "      raw_test_ds(tf.dataset): Test split dataset (25k examples).\n",
        "    \"\"\"\n",
        "\n",
        "    raw_train_ds = tf.keras.preprocessing.text_dataset_from_directory(\n",
        "        os.path.join(dataset_dir, 'train'),\n",
        "        batch_size=hparams['batch-size'],\n",
        "        validation_split=0.2,\n",
        "        subset='training',\n",
        "        seed=hparams['seed'])\n",
        "\n",
        "    raw_val_ds = tf.keras.preprocessing.text_dataset_from_directory(\n",
        "        os.path.join(dataset_dir, 'train'),\n",
        "        batch_size=hparams['batch-size'],\n",
        "        validation_split=0.2,\n",
        "        subset='validation',\n",
        "        seed=hparams['seed'])\n",
        "\n",
        "    raw_test_ds = tf.keras.preprocessing.text_dataset_from_directory(\n",
        "        os.path.join(dataset_dir, 'test'),\n",
        "        batch_size=hparams['batch-size'])\n",
        "\n",
        "    return raw_train_ds, raw_val_ds, raw_test_ds"
      ]
    },
    {
      "cell_type": "code",
      "execution_count": null,
      "id": "8ff05aa4-d299-4c80-a29a-43c6bc3ac152",
      "metadata": {
        "tags": [],
        "id": "8ff05aa4-d299-4c80-a29a-43c6bc3ac152",
        "outputId": "fb028cc6-52bb-4392-d3db-26357e3a5036"
      },
      "outputs": [
        {
          "name": "stdout",
          "output_type": "stream",
          "text": [
            "Found 25000 files belonging to 2 classes.\n",
            "Using 20000 files for training.\n",
            "Found 25000 files belonging to 2 classes.\n",
            "Using 5000 files for validation.\n",
            "Found 25000 files belonging to 2 classes.\n"
          ]
        }
      ],
      "source": [
        "raw_train_ds, raw_val_ds, raw_test_ds = load_datasets(DATASET_DIR, HPARAMS)"
      ]
    },
    {
      "cell_type": "code",
      "execution_count": null,
      "id": "50ee40c0-9e37-483c-98f5-dcdb467a2bfc",
      "metadata": {
        "tags": [],
        "id": "50ee40c0-9e37-483c-98f5-dcdb467a2bfc"
      },
      "outputs": [],
      "source": [
        "AUTOTUNE = tf.data.AUTOTUNE\n",
        "CLASS_NAMES = raw_train_ds.class_names\n",
        "\n",
        "train_ds = raw_train_ds.prefetch(buffer_size=AUTOTUNE)\n",
        "val_ds = raw_val_ds.prefetch(buffer_size=AUTOTUNE)\n",
        "test_ds = raw_test_ds.prefetch(buffer_size=AUTOTUNE)"
      ]
    },
    {
      "cell_type": "markdown",
      "id": "28f5734e-d97c-484d-9f52-f6fb4e153ef0",
      "metadata": {
        "id": "28f5734e-d97c-484d-9f52-f6fb4e153ef0"
      },
      "source": [
        "Let's print a few example reviews:"
      ]
    },
    {
      "cell_type": "code",
      "execution_count": null,
      "id": "9d794068-817c-4cb8-8e4c-c49860d0c92d",
      "metadata": {
        "tags": [],
        "id": "9d794068-817c-4cb8-8e4c-c49860d0c92d",
        "outputId": "4959ae37-7b7f-4b6c-c9af-8d72b338d83b"
      },
      "outputs": [
        {
          "name": "stdout",
          "output_type": "stream",
          "text": [
            "Review 0: b'\"Pandemonium\" is a horror movie spoof that comes off more stupid than funny. Believe me when I tell you, I love comedies. Especially comedy spoofs. \"Airplane\", \"The Naked Gun\" trilogy, \"Blazing Saddles\", \"High Anxiety\", and \"Spaceballs\" are some of my favorite comedies that spoof a particular genre. \"Pandemonium\" is not up there with those films. Most of the scenes in this movie had me sitting there in stunned silence because the movie wasn\\'t all that funny. There are a few laughs in the film, but when you watch a comedy, you expect to laugh a lot more than a few times and that\\'s all this film has going for it. Geez, \"Scream\" had more laughs than this film and that was more of a horror film. How bizarre is that?<br /><br />*1/2 (out of four)'\n",
            "Label : 0 (neg)\n",
            "Review 1: b\"David Mamet is a very interesting and a very un-equal director. His first movie 'House of Games' was the one I liked best, and it set a series of films with characters whose perspective of life changes as they get into complicated situations, and so does the perspective of the viewer.<br /><br />So is 'Homicide' which from the title tries to set the mind of the viewer to the usual crime drama. The principal characters are two cops, one Jewish and one Irish who deal with a racially charged area. The murder of an old Jewish shop owner who proves to be an ancient veteran of the Israeli Independence war triggers the Jewish identity in the mind and heart of the Jewish detective.<br /><br />This is were the flaws of the film are the more obvious. The process of awakening is theatrical and hard to believe, the group of Jewish militants is operatic, and the way the detective eventually walks to the final violent confrontation is pathetic. The end of the film itself is Mamet-like smart, but disappoints from a human emotional perspective.<br /><br />Joe Mantegna and William Macy give strong performances, but the flaws of the story are too evident to be easily compensated.\"\n",
            "Label : 0 (neg)\n",
            "Review 2: b'Great documentary about the lives of NY firefighters during the worst terrorist attack of all time.. That reason alone is why this should be a must see collectors item.. What shocked me was not only the attacks, but the\"High Fat Diet\" and physical appearance of some of these firefighters. I think a lot of Doctors would agree with me that,in the physical shape they were in, some of these firefighters would NOT of made it to the 79th floor carrying over 60 lbs of gear. Having said that i now have a greater respect for firefighters and i realize becoming a firefighter is a life altering job. The French have a history of making great documentary\\'s and that is what this is, a Great Documentary.....'\n",
            "Label : 1 (pos)\n"
          ]
        }
      ],
      "source": [
        "for text_batch, label_batch in train_ds.take(1):\n",
        "  for i in range(3):\n",
        "    print(f'Review {i}: {text_batch.numpy()[i]}')\n",
        "    label = label_batch.numpy()[i]\n",
        "    print(f'Label : {label} ({CLASS_NAMES[label]})')"
      ]
    },
    {
      "cell_type": "markdown",
      "id": "2e3e6686-2fa1-453c-8259-8e5a87cba023",
      "metadata": {
        "id": "2e3e6686-2fa1-453c-8259-8e5a87cba023"
      },
      "source": [
        "### Choose a pre-trained BERT model to fine-tune for higher accuracy"
      ]
    },
    {
      "cell_type": "markdown",
      "id": "3502ad71-5747-4a11-9122-0b5c7b2049cd",
      "metadata": {
        "id": "3502ad71-5747-4a11-9122-0b5c7b2049cd"
      },
      "source": [
        "[**Bidirectional Encoder Representations from Transformers (BERT)**](https://arxiv.org/abs/1810.04805v2) is a transformer-based text representation model pre-trained on massive datasets (3+ billion words) that can be fine-tuned for state-of-the art results on many natural language processing (NLP) tasks. Since release in 2018 by Google researchers, its has transformed the field of NLP research and come to form a core part of significant improvements to [Google Search](https://www.blog.google/products/search/search-language-understanding-bert).\n",
        "\n",
        "To meet your business requirements of achieving higher accuracy on a small dataset (20k training examples), you will use a technique called transfer learning to combine a pre-trained BERT encoder and classification layers to fine tune a new higher performing model for binary sentiment classification."
      ]
    },
    {
      "cell_type": "markdown",
      "id": "fdd347cc-5f87-4b89-8833-6df850729ec3",
      "metadata": {
        "id": "fdd347cc-5f87-4b89-8833-6df850729ec3"
      },
      "source": [
        "\n",
        "\n",
        "The Small BERT models are instances of the original BERT architecture with a smaller number L of layers (i.e., residual blocks) combined with a smaller hidden size H and a matching smaller number A of attention heads, as published by\n",
        "\n",
        "Iulia Turc, Ming-Wei Chang, Kenton Lee, Kristina Toutanova: [\"Well-Read Students Learn Better: On the Importance of Pre-training Compact Models\"](https://arxiv.org/abs/1908.08962), 2019.\n",
        "\n",
        "They have the same general architecture but fewer and/or smaller Transformer blocks, which lets you explore tradeoffs between speed, size and quality.\n",
        "\n",
        "The following preprocessing and encoder models in the TensorFlow 2 SavedModel format use the implementation of BERT from the [TensorFlow Models Github repository](https://github.com/tensorflow/models/tree/master/official/nlp/bert) with the trained weights released by the authors of Small BERT."
      ]
    },
    {
      "cell_type": "code",
      "execution_count": null,
      "id": "22196658-1c30-49c7-8485-5d933fc8988e",
      "metadata": {
        "tags": [],
        "id": "22196658-1c30-49c7-8485-5d933fc8988e"
      },
      "outputs": [],
      "source": [
        "HPARAMS.update({\n",
        "    # TF Hub BERT modules.\n",
        "    \"tfhub-bert-preprocessor\": \"https://tfhub.dev/tensorflow/bert_en_uncased_preprocess/3\",\n",
        "    \"tfhub-bert-encoder\": \"https://tfhub.dev/tensorflow/small_bert/bert_en_uncased_L-2_H-128_A-2/2\",\n",
        "})"
      ]
    },
    {
      "cell_type": "markdown",
      "id": "dc50b93a-df95-47d9-bc14-14502ae4eb54",
      "metadata": {
        "id": "dc50b93a-df95-47d9-bc14-14502ae4eb54"
      },
      "source": [
        "Text inputs need to be transformed to numeric token ids and arranged in several Tensors before being input to BERT. TensorFlow Hub provides a matching preprocessing model for each of the BERT models discussed above, which implements this transformation using TF ops from the TF.text library. Since this text preprocessor is a TensorFlow model, It can be included in your model directly."
      ]
    },
    {
      "cell_type": "markdown",
      "id": "780e50df-9d35-4116-a167-8353046bf6b9",
      "metadata": {
        "id": "780e50df-9d35-4116-a167-8353046bf6b9"
      },
      "source": [
        "For fine-tuning, you will use the same optimizer that BERT was originally trained with: the \"Adaptive Moments\" (Adam). This optimizer minimizes the prediction loss and does regularization by weight decay (not using moments), which is also known as [AdamW](https://arxiv.org/abs/1711.05101)."
      ]
    },
    {
      "cell_type": "markdown",
      "id": "26396cb1-fc24-4e96-bef2-6fc8e2d500a6",
      "metadata": {
        "id": "26396cb1-fc24-4e96-bef2-6fc8e2d500a6"
      },
      "source": [
        "For the learning rate `initial-learning-rate`, you will use the same schedule as BERT pre-training: linear decay of a notional initial learning rate, prefixed with a linear warm-up phase over the first 10% of training steps `n_warmup_steps`. In line with the BERT paper, the initial learning rate is smaller for fine-tuning."
      ]
    },
    {
      "cell_type": "code",
      "execution_count": null,
      "id": "2b634139-a0d1-41e7-be23-c6e580a4f0e6",
      "metadata": {
        "tags": [],
        "id": "2b634139-a0d1-41e7-be23-c6e580a4f0e6"
      },
      "outputs": [],
      "source": [
        "HPARAMS.update({\n",
        "    # Model training hyperparameters for fine tuning and regularization.\n",
        "    \"epochs\": 2,\n",
        "    \"initial-learning-rate\": 3e-5,\n",
        "    \"dropout\": 0.1\n",
        "})"
      ]
    },
    {
      "cell_type": "code",
      "execution_count": null,
      "id": "4e415aeb-5ab2-42ac-904a-ae0649d45a2e",
      "metadata": {
        "tags": [],
        "id": "4e415aeb-5ab2-42ac-904a-ae0649d45a2e"
      },
      "outputs": [],
      "source": [
        "epochs = HPARAMS['epochs']\n",
        "steps_per_epoch = tf.data.experimental.cardinality(train_ds).numpy()\n",
        "n_train_steps = steps_per_epoch * epochs\n",
        "n_warmup_steps = int(0.1 * n_train_steps)\n",
        "\n",
        "OPTIMIZER = optimization.create_optimizer(init_lr=HPARAMS['initial-learning-rate'],\n",
        "                                          num_train_steps=n_train_steps,\n",
        "                                          num_warmup_steps=n_warmup_steps,\n",
        "                                          optimizer_type='adamw')"
      ]
    },
    {
      "cell_type": "markdown",
      "id": "005b4646-ce95-47c4-b1f7-886f59980386",
      "metadata": {
        "id": "005b4646-ce95-47c4-b1f7-886f59980386"
      },
      "source": [
        "### Build and compile a TensorFlow BERT sentiment classifier"
      ]
    },
    {
      "cell_type": "markdown",
      "id": "80920377-4596-4dbd-8eb7-8580327fdb24",
      "metadata": {
        "id": "80920377-4596-4dbd-8eb7-8580327fdb24"
      },
      "source": [
        "Next, you will define and compile your model by assembling pre-built TF-Hub components and tf.keras layers.\n",
        "\n",
        "**Note:** For any help while defining the model, you can refer [**TensorFlow BERT text classification tutorial**](https://www.tensorflow.org/text/tutorials/classify_text_with_bert#define_your_model)."
      ]
    },
    {
      "cell_type": "code",
      "execution_count": null,
      "id": "289da96f-2aad-4c34-85ce-5916ea98778e",
      "metadata": {
        "tags": [],
        "id": "289da96f-2aad-4c34-85ce-5916ea98778e"
      },
      "outputs": [],
      "source": [
        "def build_text_classifier(hparams, optimizer):\n",
        "    \"\"\"Define and compile a TensorFlow BERT sentiment classifier.\n",
        "    Args:\n",
        "      hparams(dict): A dictionary containing model training arguments.\n",
        "    Returns:\n",
        "      model(tf.keras.Model): A compiled TensorFlow model.\n",
        "    \"\"\"\n",
        "    text_input = tf.keras.layers.Input(shape=(), dtype=tf.string, name='text')\n",
        "    # TODO: Add a hub.KerasLayer for BERT text preprocessing using the hparams dict.\n",
        "    # Name the layer 'preprocessing' and store in the variable 'preprocessor'.\n",
        "    preprocessor= hub.KerasLayer(hparams['tfhub-bert-preprocessor'], name='preprocessing')\n",
        "\n",
        "    encoder_inputs = preprocessor(text_input)\n",
        "    # TODO: Add a trainable hub.KerasLayer for BERT text encoding using the hparams dict.\n",
        "    # Name the layer 'BERT_encoder' and store in the variable 'encoder'.\n",
        "    encoder= hub.KerasLayer(hparams['tfhub-bert-encoder'], trainable=True, name='BERT_encoder')\n",
        "\n",
        "    outputs = encoder(encoder_inputs)\n",
        "    # For the fine-tuning you are going to use the `pooled_output` array which represents\n",
        "    # each input sequence as a whole. The shape is [batch_size, H].\n",
        "    # You can think of this as an embedding for the entire movie review.\n",
        "    classifier = outputs['pooled_output']\n",
        "    # Add dropout to prevent overfitting during model fine-tuning.\n",
        "    classifier = tf.keras.layers.Dropout(hparams['dropout'], name='dropout')(classifier)\n",
        "    classifier = tf.keras.layers.Dense(1, activation=None, name='classifier')(classifier)\n",
        "    model = tf.keras.Model(text_input, classifier, name='bert-sentiment-classifier')\n",
        "\n",
        "    loss = tf.keras.losses.BinaryCrossentropy(from_logits=True)\n",
        "    metrics = tf.metrics.BinaryAccuracy()\n",
        "\n",
        "    model.compile(optimizer=optimizer,\n",
        "                  loss=loss,\n",
        "                  metrics=metrics)\n",
        "\n",
        "    return model"
      ]
    },
    {
      "cell_type": "code",
      "execution_count": null,
      "id": "036b72cc-9e1c-49c9-8a90-7b09b6108f3d",
      "metadata": {
        "tags": [],
        "id": "036b72cc-9e1c-49c9-8a90-7b09b6108f3d"
      },
      "outputs": [],
      "source": [
        "model = build_text_classifier(HPARAMS, OPTIMIZER)"
      ]
    },
    {
      "cell_type": "code",
      "execution_count": null,
      "id": "f8198df2-c15a-4f79-a154-83c941aba5f3",
      "metadata": {
        "tags": [],
        "id": "f8198df2-c15a-4f79-a154-83c941aba5f3",
        "outputId": "358acf58-0f11-44d5-8628-74aedcf37fa1"
      },
      "outputs": [
        {
          "data": {
            "image/png": "[encoded data removed]",
            "text/plain": [
              "<IPython.core.display.Image object>"
            ]
          },
          "execution_count": 27,
          "metadata": {},
          "output_type": "execute_result"
        }
      ],
      "source": [
        "# Visualize your fine-tuned BERT sentiment classifier.\n",
        "tf.keras.utils.plot_model(model)"
      ]
    },
    {
      "cell_type": "code",
      "execution_count": null,
      "id": "acfeb71d-4e19-4759-8f5c-293c8c7cee1c",
      "metadata": {
        "tags": [],
        "id": "acfeb71d-4e19-4759-8f5c-293c8c7cee1c"
      },
      "outputs": [],
      "source": [
        "TEST_REVIEW = ['this is such an amazing movie!']"
      ]
    },
    {
      "cell_type": "code",
      "execution_count": null,
      "id": "d1c2112f-9f04-470e-8636-38ea948cba9d",
      "metadata": {
        "tags": [],
        "id": "d1c2112f-9f04-470e-8636-38ea948cba9d",
        "outputId": "33db975c-0a4f-4dc1-8a6a-d57958c5c30f"
      },
      "outputs": [
        {
          "name": "stdout",
          "output_type": "stream",
          "text": [
            "tf.Tensor([[-1.9178617]], shape=(1, 1), dtype=float32)\n"
          ]
        }
      ],
      "source": [
        "BERT_RAW_RESULT = model(tf.constant(TEST_REVIEW))\n",
        "print(BERT_RAW_RESULT)"
      ]
    },
    {
      "cell_type": "markdown",
      "id": "d53dd9fa-d0a4-46ab-a123-3065b8fde7c8",
      "metadata": {
        "id": "d53dd9fa-d0a4-46ab-a123-3065b8fde7c8"
      },
      "source": [
        "### Train and evaluate your BERT sentiment classifier"
      ]
    },
    {
      "cell_type": "code",
      "execution_count": null,
      "id": "f1f008fc-f696-4b71-9011-2a897d268795",
      "metadata": {
        "tags": [],
        "id": "f1f008fc-f696-4b71-9011-2a897d268795"
      },
      "outputs": [],
      "source": [
        "HPARAMS.update({\n",
        "    # TODO: Save your BERT sentiment classifier locally in the form of <key>:<path to save the model>.\n",
        "    # Hint: You can use the key as 'model-dir' and save it to './bert-sentiment-classifier-local'.\n",
        "    \"model-dir\":\"./bert-sentiment-classifier-local\"\n",
        "\n",
        "})"
      ]
    },
    {
      "cell_type": "markdown",
      "id": "9efd08f3-988f-408a-b694-af4702de85ba",
      "metadata": {
        "id": "9efd08f3-988f-408a-b694-af4702de85ba"
      },
      "source": [
        "**Note:** training your model locally will take about 10-15 minutes."
      ]
    },
    {
      "cell_type": "code",
      "execution_count": null,
      "id": "24660956-d60a-4c25-a654-7b192a01a2d5",
      "metadata": {
        "tags": [],
        "id": "24660956-d60a-4c25-a654-7b192a01a2d5"
      },
      "outputs": [],
      "source": [
        "def train_evaluate(hparams):\n",
        "    \"\"\"Train and evaluate TensorFlow BERT sentiment classifier.\n",
        "    Args:\n",
        "      hparams(dict): A dictionary containing model training arguments.\n",
        "    Returns:\n",
        "      history(tf.keras.callbacks.History): Keras callback that records training event history.\n",
        "    \"\"\"\n",
        "    # dataset_dir = download_data(data_url, local_data_dir)\n",
        "    raw_train_ds, raw_val_ds, raw_test_ds = load_datasets(DATASET_DIR, hparams)\n",
        "\n",
        "    train_ds = raw_train_ds.cache().prefetch(buffer_size=AUTOTUNE)\n",
        "    val_ds = raw_val_ds.cache().prefetch(buffer_size=AUTOTUNE)\n",
        "    test_ds = raw_test_ds.cache().prefetch(buffer_size=AUTOTUNE)\n",
        "\n",
        "    epochs = hparams['epochs']\n",
        "    steps_per_epoch = tf.data.experimental.cardinality(train_ds).numpy()\n",
        "    n_train_steps = steps_per_epoch * epochs\n",
        "    n_warmup_steps = int(0.1 * n_train_steps)\n",
        "\n",
        "    optimizer = optimization.create_optimizer(init_lr=hparams['initial-learning-rate'],\n",
        "                                              num_train_steps=n_train_steps,\n",
        "                                              num_warmup_steps=n_warmup_steps,\n",
        "                                              optimizer_type='adamw')\n",
        "\n",
        "    mirrored_strategy = tf.distribute.MirroredStrategy()\n",
        "    with mirrored_strategy.scope():\n",
        "        model = build_text_classifier(hparams=hparams, optimizer=optimizer)\n",
        "\n",
        "    logging.info(model.summary())\n",
        "\n",
        "    history = model.fit(x=train_ds,\n",
        "                        validation_data=val_ds,\n",
        "                        epochs=epochs)\n",
        "\n",
        "    logging.info(\"Test accuracy: %s\", model.evaluate(test_ds))\n",
        "\n",
        "    # Export Keras model in TensorFlow SavedModel format.\n",
        "    model.save(hparams['model-dir'])\n",
        "\n",
        "    return history"
      ]
    },
    {
      "cell_type": "markdown",
      "id": "0549e700-bf6a-415a-bb35-01150d9535e5",
      "metadata": {
        "id": "0549e700-bf6a-415a-bb35-01150d9535e5"
      },
      "source": [
        "Based on the `History` object returned by `model.fit()`. You can plot the training and validation loss for comparison, as well as the training and validation accuracy:"
      ]
    },
    {
      "cell_type": "code",
      "execution_count": null,
      "id": "f59cab23-fbf0-44d2-9ee0-e2dd83390fa5",
      "metadata": {
        "tags": [],
        "id": "f59cab23-fbf0-44d2-9ee0-e2dd83390fa5",
        "outputId": "5d4e746f-9ddb-4330-c4c0-38b6e445ae3a"
      },
      "outputs": [
        {
          "name": "stdout",
          "output_type": "stream",
          "text": [
            "Found 25000 files belonging to 2 classes.\n",
            "Using 20000 files for training.\n",
            "Found 25000 files belonging to 2 classes.\n",
            "Using 5000 files for validation.\n",
            "Found 25000 files belonging to 2 classes.\n",
            "INFO:tensorflow:Using MirroredStrategy with devices ('/job:localhost/replica:0/task:0/device:CPU:0',)\n"
          ]
        },
        {
          "name": "stderr",
          "output_type": "stream",
          "text": [
            "INFO:tensorflow:Using MirroredStrategy with devices ('/job:localhost/replica:0/task:0/device:CPU:0',)\n"
          ]
        },
        {
          "name": "stdout",
          "output_type": "stream",
          "text": [
            "Model: \"bert-sentiment-classifier\"\n",
            "__________________________________________________________________________________________________\n",
            " Layer (type)                Output Shape                 Param #   Connected to                  \n",
            "==================================================================================================\n",
            " text (InputLayer)           [(None,)]                    0         []                            \n",
            "                                                                                                  \n",
            " preprocessing (KerasLayer)  {'input_type_ids': (None,    0         ['text[0][0]']                \n",
            "                             128),                                                                \n",
            "                              'input_mask': (None, 128)                                           \n",
            "                             , 'input_word_ids': (None,                                           \n",
            "                              128)}                                                               \n",
            "                                                                                                  \n",
            " BERT_encoder (KerasLayer)   {'sequence_output': (None,   4385921   ['preprocessing[0][0]',       \n",
            "                              None, 128),                            'preprocessing[0][1]',       \n",
            "                              'default': (None, 128),                'preprocessing[0][2]']       \n",
            "                              'pooled_output': (None, 1                                           \n",
            "                             28),                                                                 \n",
            "                              'encoder_outputs': [(None                                           \n",
            "                             , None, 128),                                                        \n",
            "                              (None, None, 128)]}                                                 \n",
            "                                                                                                  \n",
            " dropout (Dropout)           (None, 128)                  0         ['BERT_encoder[0][3]']        \n",
            "                                                                                                  \n",
            " classifier (Dense)          (None, 1)                    129       ['dropout[0][0]']             \n",
            "                                                                                                  \n",
            "==================================================================================================\n",
            "Total params: 4386050 (16.73 MB)\n",
            "Trainable params: 4386049 (16.73 MB)\n",
            "Non-trainable params: 1 (1.00 Byte)\n",
            "__________________________________________________________________________________________________\n",
            "Epoch 1/2\n"
          ]
        },
        {
          "name": "stderr",
          "output_type": "stream",
          "text": [
            "2024-11-23 23:39:24.768298: W tensorflow/core/grappler/optimizers/data/auto_shard.cc:786] AUTO sharding policy will apply DATA sharding policy as it failed to apply FILE sharding policy because of the following reason: Found an unshardable source dataset: name: \"TensorSliceDataset/_1\"\n",
            "op: \"TensorSliceDataset\"\n",
            "input: \"Placeholder/_0\"\n",
            "attr {\n",
            "  key: \"Toutput_types\"\n",
            "  value {\n",
            "    list {\n",
            "      type: DT_STRING\n",
            "    }\n",
            "  }\n",
            "}\n",
            "attr {\n",
            "  key: \"_cardinality\"\n",
            "  value {\n",
            "    i: 20000\n",
            "  }\n",
            "}\n",
            "attr {\n",
            "  key: \"is_files\"\n",
            "  value {\n",
            "    b: false\n",
            "  }\n",
            "}\n",
            "attr {\n",
            "  key: \"metadata\"\n",
            "  value {\n",
            "    s: \"\\n\\026TensorSliceDataset:200\"\n",
            "  }\n",
            "}\n",
            "attr {\n",
            "  key: \"output_shapes\"\n",
            "  value {\n",
            "    list {\n",
            "      shape {\n",
            "      }\n",
            "    }\n",
            "  }\n",
            "}\n",
            "attr {\n",
            "  key: \"replicate_on_split\"\n",
            "  value {\n",
            "    b: false\n",
            "  }\n",
            "}\n",
            "experimental_type {\n",
            "  type_id: TFT_PRODUCT\n",
            "  args {\n",
            "    type_id: TFT_DATASET\n",
            "    args {\n",
            "      type_id: TFT_PRODUCT\n",
            "      args {\n",
            "        type_id: TFT_TENSOR\n",
            "        args {\n",
            "          type_id: TFT_STRING\n",
            "        }\n",
            "      }\n",
            "    }\n",
            "  }\n",
            "}\n",
            "\n",
            "2024-11-23 23:39:24.831735: W tensorflow/core/framework/dataset.cc:956] Input of GeneratorDatasetOp::Dataset will not be optimized because the dataset does not implement the AsGraphDefInternal() method needed to apply optimizations.\n"
          ]
        },
        {
          "name": "stdout",
          "output_type": "stream",
          "text": [
            "625/625 [==============================] - ETA: 0s - loss: 0.6120 - binary_accuracy: 0.6429"
          ]
        },
        {
          "name": "stderr",
          "output_type": "stream",
          "text": [
            "2024-11-23 23:42:18.855772: W tensorflow/core/grappler/optimizers/data/auto_shard.cc:786] AUTO sharding policy will apply DATA sharding policy as it failed to apply FILE sharding policy because of the following reason: Found an unshardable source dataset: name: \"TensorSliceDataset/_1\"\n",
            "op: \"TensorSliceDataset\"\n",
            "input: \"Placeholder/_0\"\n",
            "attr {\n",
            "  key: \"Toutput_types\"\n",
            "  value {\n",
            "    list {\n",
            "      type: DT_STRING\n",
            "    }\n",
            "  }\n",
            "}\n",
            "attr {\n",
            "  key: \"_cardinality\"\n",
            "  value {\n",
            "    i: 5000\n",
            "  }\n",
            "}\n",
            "attr {\n",
            "  key: \"is_files\"\n",
            "  value {\n",
            "    b: false\n",
            "  }\n",
            "}\n",
            "attr {\n",
            "  key: \"metadata\"\n",
            "  value {\n",
            "    s: \"\\n\\026TensorSliceDataset:207\"\n",
            "  }\n",
            "}\n",
            "attr {\n",
            "  key: \"output_shapes\"\n",
            "  value {\n",
            "    list {\n",
            "      shape {\n",
            "      }\n",
            "    }\n",
            "  }\n",
            "}\n",
            "attr {\n",
            "  key: \"replicate_on_split\"\n",
            "  value {\n",
            "    b: false\n",
            "  }\n",
            "}\n",
            "experimental_type {\n",
            "  type_id: TFT_PRODUCT\n",
            "  args {\n",
            "    type_id: TFT_DATASET\n",
            "    args {\n",
            "      type_id: TFT_PRODUCT\n",
            "      args {\n",
            "        type_id: TFT_TENSOR\n",
            "        args {\n",
            "          type_id: TFT_STRING\n",
            "        }\n",
            "      }\n",
            "    }\n",
            "  }\n",
            "}\n",
            "\n",
            "2024-11-23 23:42:18.919441: W tensorflow/core/framework/dataset.cc:956] Input of GeneratorDatasetOp::Dataset will not be optimized because the dataset does not implement the AsGraphDefInternal() method needed to apply optimizations.\n"
          ]
        },
        {
          "name": "stdout",
          "output_type": "stream",
          "text": [
            "625/625 [==============================] - 188s 295ms/step - loss: 0.6120 - binary_accuracy: 0.6429 - val_loss: 0.5098 - val_binary_accuracy: 0.7238\n",
            "Epoch 2/2\n",
            "625/625 [==============================] - ETA: 0s - loss: 0.5028 - binary_accuracy: 0.7442"
          ]
        },
        {
          "name": "stderr",
          "output_type": "stream",
          "text": [
            "2024-11-23 23:45:21.878074: W tensorflow/core/framework/dataset.cc:956] Input of GeneratorDatasetOp::Dataset will not be optimized because the dataset does not implement the AsGraphDefInternal() method needed to apply optimizations.\n"
          ]
        },
        {
          "name": "stdout",
          "output_type": "stream",
          "text": [
            "625/625 [==============================] - 182s 292ms/step - loss: 0.5028 - binary_accuracy: 0.7442 - val_loss: 0.4754 - val_binary_accuracy: 0.7554\n"
          ]
        },
        {
          "name": "stderr",
          "output_type": "stream",
          "text": [
            "2024-11-23 23:45:35.660853: W tensorflow/core/grappler/optimizers/data/auto_shard.cc:786] AUTO sharding policy will apply DATA sharding policy as it failed to apply FILE sharding policy because of the following reason: Found an unshardable source dataset: name: \"TensorSliceDataset/_1\"\n",
            "op: \"TensorSliceDataset\"\n",
            "input: \"Placeholder/_0\"\n",
            "attr {\n",
            "  key: \"Toutput_types\"\n",
            "  value {\n",
            "    list {\n",
            "      type: DT_STRING\n",
            "    }\n",
            "  }\n",
            "}\n",
            "attr {\n",
            "  key: \"_cardinality\"\n",
            "  value {\n",
            "    i: 25000\n",
            "  }\n",
            "}\n",
            "attr {\n",
            "  key: \"is_files\"\n",
            "  value {\n",
            "    b: false\n",
            "  }\n",
            "}\n",
            "attr {\n",
            "  key: \"metadata\"\n",
            "  value {\n",
            "    s: \"\\n\\026TensorSliceDataset:214\"\n",
            "  }\n",
            "}\n",
            "attr {\n",
            "  key: \"output_shapes\"\n",
            "  value {\n",
            "    list {\n",
            "      shape {\n",
            "      }\n",
            "    }\n",
            "  }\n",
            "}\n",
            "attr {\n",
            "  key: \"replicate_on_split\"\n",
            "  value {\n",
            "    b: false\n",
            "  }\n",
            "}\n",
            "experimental_type {\n",
            "  type_id: TFT_PRODUCT\n",
            "  args {\n",
            "    type_id: TFT_DATASET\n",
            "    args {\n",
            "      type_id: TFT_PRODUCT\n",
            "      args {\n",
            "        type_id: TFT_TENSOR\n",
            "        args {\n",
            "          type_id: TFT_STRING\n",
            "        }\n",
            "      }\n",
            "    }\n",
            "  }\n",
            "}\n",
            "\n"
          ]
        },
        {
          "name": "stdout",
          "output_type": "stream",
          "text": [
            "782/782 [==============================] - 73s 93ms/step - loss: 0.4811 - binary_accuracy: 0.7516\n",
            "INFO:tensorflow:Assets written to: ./bert-sentiment-classifier-local/assets\n"
          ]
        },
        {
          "name": "stderr",
          "output_type": "stream",
          "text": [
            "INFO:tensorflow:Assets written to: ./bert-sentiment-classifier-local/assets\n"
          ]
        }
      ],
      "source": [
        "history = train_evaluate(HPARAMS)"
      ]
    },
    {
      "cell_type": "code",
      "execution_count": null,
      "id": "91980420-8451-4869-b189-2b3693131ff8",
      "metadata": {
        "tags": [],
        "id": "91980420-8451-4869-b189-2b3693131ff8",
        "outputId": "98b869a5-2476-4afc-940a-6bed19643ce3"
      },
      "outputs": [
        {
          "name": "stdout",
          "output_type": "stream",
          "text": [
            "dict_keys(['loss', 'binary_accuracy', 'val_loss', 'val_binary_accuracy'])\n"
          ]
        },
        {
          "data": {
            "image/png": "[encoded data removed]",
            "text/plain": [
              "<Figure size 1000x600 with 2 Axes>"
            ]
          },
          "metadata": {},
          "output_type": "display_data"
        }
      ],
      "source": [
        "history_dict = history.history\n",
        "print(history_dict.keys())\n",
        "\n",
        "acc = history_dict['binary_accuracy']\n",
        "val_acc = history_dict['val_binary_accuracy']\n",
        "loss = history_dict['loss']\n",
        "val_loss = history_dict['val_loss']\n",
        "\n",
        "epochs = range(1, len(acc) + 1)\n",
        "fig = plt.figure(figsize=(10, 6))\n",
        "fig.tight_layout()\n",
        "\n",
        "plt.subplot(2, 1, 1)\n",
        "# \"bo\" is for \"blue dot\"\n",
        "plt.plot(epochs, loss, 'r', label='Training loss')\n",
        "# b is for \"solid blue line\"\n",
        "plt.plot(epochs, val_loss, 'b', label='Validation loss')\n",
        "plt.title('Training and validation loss')\n",
        "# plt.xlabel('Epochs')\n",
        "plt.ylabel('Loss')\n",
        "plt.legend()\n",
        "\n",
        "plt.subplot(2, 1, 2)\n",
        "plt.plot(epochs, acc, 'r', label='Training acc')\n",
        "plt.plot(epochs, val_acc, 'b', label='Validation acc')\n",
        "plt.title('Training and validation accuracy')\n",
        "plt.xlabel('Epochs')\n",
        "plt.ylabel('Accuracy')\n",
        "plt.legend(loc='lower right');"
      ]
    },
    {
      "cell_type": "markdown",
      "id": "e1fcbcff-18d5-4448-b695-fd6bf3189c2f",
      "metadata": {
        "id": "e1fcbcff-18d5-4448-b695-fd6bf3189c2f"
      },
      "source": [
        "In this plot, the red lines represent the training loss and accuracy, and the blue lines are the validation loss and accuracy. Based on the plots above, you should see model accuracy of around 78-80% which exceeds your business requirements target of greater than 75% accuracy."
      ]
    },
    {
      "cell_type": "markdown",
      "id": "f4fc3fed-aa4c-40b2-8c44-19be21ba4689",
      "metadata": {
        "id": "f4fc3fed-aa4c-40b2-8c44-19be21ba4689"
      },
      "source": [
        "## Containerize your model code"
      ]
    },
    {
      "cell_type": "markdown",
      "id": "f3905338-288b-4565-9abb-9053d7559315",
      "metadata": {
        "id": "f3905338-288b-4565-9abb-9053d7559315"
      },
      "source": [
        "Now that you trained and evaluated your model locally in a Vertex Notebook as part of an experimentation workflow, your next step is to train and deploy your model on Google Cloud's Vertex AI platform."
      ]
    },
    {
      "cell_type": "markdown",
      "id": "cbbb61ec-cb3c-43bd-9d75-9d61ff52848e",
      "metadata": {
        "id": "cbbb61ec-cb3c-43bd-9d75-9d61ff52848e"
      },
      "source": [
        "To train your BERT classifier on Google Cloud, you will you will package your Python training scripts and write a Dockerfile that contains instructions on your ML model code, dependencies, and execution instructions. You will build your custom container with Cloud Build, whose instructions are specified in `cloudbuild.yaml` and publish your container to your Artifact Registry. This workflow gives you the opportunity to use the same container to run as part of a portable and scalable [Vertex Pipelines](https://cloud.google.com/vertex-ai/docs/pipelines/introduction) workflow.\n",
        "\n",
        "\n",
        "You will walk through creating the following project structure for your ML mode code:\n",
        "```\n",
        "|--/bert-sentiment-classifier\n",
        "   |--/trainer\n",
        "      |--__init__.py\n",
        "      |--model.py\n",
        "      |--task.py\n",
        "   |--Dockerfile\n",
        "   |--cloudbuild.yaml\n",
        "   |--requirements.txt\n",
        "```"
      ]
    },
    {
      "cell_type": "markdown",
      "id": "a033e3c3-9dad-49d8-b53c-fd48113a8f90",
      "metadata": {
        "id": "a033e3c3-9dad-49d8-b53c-fd48113a8f90"
      },
      "source": [
        "### 1. Write a `model.py` training script\n",
        "\n",
        "First, you will tidy up your local TensorFlow model training code from above into a training script."
      ]
    },
    {
      "cell_type": "code",
      "execution_count": null,
      "id": "0129184d-15ed-4ebe-bbdc-6c2687eb18cf",
      "metadata": {
        "tags": [],
        "id": "0129184d-15ed-4ebe-bbdc-6c2687eb18cf"
      },
      "outputs": [],
      "source": [
        "MODEL_DIR = \"bert-sentiment-classifier\""
      ]
    },
    {
      "cell_type": "code",
      "execution_count": null,
      "id": "2594afe7-b9e0-4957-9156-d2e595fde62f",
      "metadata": {
        "tags": [],
        "id": "2594afe7-b9e0-4957-9156-d2e595fde62f",
        "outputId": "a80da53f-aec3-4644-b71c-2e451ddfd4ae"
      },
      "outputs": [
        {
          "name": "stdout",
          "output_type": "stream",
          "text": [
            "Overwriting bert-sentiment-classifier/trainer/model.py\n"
          ]
        }
      ],
      "source": [
        "%%writefile {MODEL_DIR}/trainer/model.py\n",
        "import os\n",
        "import shutil\n",
        "import logging\n",
        "\n",
        "import tensorflow as tf\n",
        "import tensorflow_text as text\n",
        "import tensorflow_hub as hub\n",
        "from official.nlp import optimization\n",
        "\n",
        "DATA_URL = 'https://ai.stanford.edu/~amaas/data/sentiment/aclImdb_v1.tar.gz'\n",
        "LOCAL_DATA_DIR = './tmp/data'\n",
        "AUTOTUNE = tf.data.AUTOTUNE\n",
        "\n",
        "\n",
        "def download_data(data_url, local_data_dir):\n",
        "    \"\"\"Download dataset.\n",
        "    Args:\n",
        "      data_url(str): Source data URL path.\n",
        "      local_data_dir(str): Local data download directory path.\n",
        "    Returns:\n",
        "      dataset_dir(str): Local unpacked data directory path.\n",
        "    \"\"\"\n",
        "    if not os.path.exists(local_data_dir):\n",
        "        os.makedirs(local_data_dir)\n",
        "\n",
        "    dataset = tf.keras.utils.get_file(\n",
        "      fname='aclImdb_v1.tar.gz',\n",
        "      origin=data_url,\n",
        "      untar=True,\n",
        "      cache_dir=local_data_dir,\n",
        "      cache_subdir=\"\")\n",
        "\n",
        "    dataset_dir = os.path.join(os.path.dirname(dataset), 'aclImdb')\n",
        "\n",
        "    train_dir = os.path.join(dataset_dir, 'train')\n",
        "\n",
        "    # Remove unused folders to make it easier to load the data.\n",
        "    remove_dir = os.path.join(train_dir, 'unsup')\n",
        "    shutil.rmtree(remove_dir)\n",
        "\n",
        "    return dataset_dir\n",
        "\n",
        "\n",
        "def load_datasets(dataset_dir, hparams):\n",
        "    \"\"\"Load pre-split tf.datasets.\n",
        "    Args:\n",
        "      hparams(dict): A dictionary containing model training arguments.\n",
        "    Returns:\n",
        "      raw_train_ds(tf.dataset): Train split dataset (20k examples).\n",
        "      raw_val_ds(tf.dataset): Validation split dataset (5k examples).\n",
        "      raw_test_ds(tf.dataset): Test split dataset (25k examples).\n",
        "    \"\"\"\n",
        "\n",
        "    raw_train_ds = tf.keras.preprocessing.text_dataset_from_directory(\n",
        "        os.path.join(dataset_dir, 'train'),\n",
        "        batch_size=hparams['batch-size'],\n",
        "        validation_split=0.2,\n",
        "        subset='training',\n",
        "        seed=hparams['seed'])\n",
        "\n",
        "    raw_val_ds = tf.keras.preprocessing.text_dataset_from_directory(\n",
        "        os.path.join(dataset_dir, 'train'),\n",
        "        batch_size=hparams['batch-size'],\n",
        "        validation_split=0.2,\n",
        "        subset='validation',\n",
        "        seed=hparams['seed'])\n",
        "\n",
        "    raw_test_ds = tf.keras.preprocessing.text_dataset_from_directory(\n",
        "        os.path.join(dataset_dir, 'test'),\n",
        "        batch_size=hparams['batch-size'])\n",
        "\n",
        "    return raw_train_ds, raw_val_ds, raw_test_ds\n",
        "\n",
        "\n",
        "def build_text_classifier(hparams, optimizer):\n",
        "    \"\"\"Define and compile a TensorFlow BERT sentiment classifier.\n",
        "    Args:\n",
        "      hparams(dict): A dictionary containing model training arguments.\n",
        "    Returns:\n",
        "      model(tf.keras.Model): A compiled TensorFlow model.\n",
        "    \"\"\"\n",
        "    text_input = tf.keras.layers.Input(shape=(), dtype=tf.string, name='text')\n",
        "    # TODO: Add a hub.KerasLayer for BERT text preprocessing using the hparams dict.\n",
        "    # Name the layer 'preprocessing' and store in the variable 'preprocessor'.\n",
        "    preprocessor= hub.KerasLayer(hparams['tfhub-bert-preprocessor'], name='preprocessing')\n",
        "\n",
        "\n",
        "    encoder_inputs = preprocessor(text_input)\n",
        "    # TODO: Add a trainable hub.KerasLayer for BERT text encoding using the hparams dict.\n",
        "    # Name the layer 'BERT_encoder' and store in the variable 'encoder'.\n",
        "    encoder= hub.KerasLayer(hparams['tfhub-bert-encoder'], trainable=True, name='BERT_encoder')\n",
        "\n",
        "\n",
        "    outputs = encoder(encoder_inputs)\n",
        "    # For the fine-tuning you are going to use the `pooled_output` array which represents\n",
        "    # each input sequence as a whole. The shape is [batch_size, H].\n",
        "    # You can think of this as an embedding for the entire movie review.\n",
        "    classifier = outputs['pooled_output']\n",
        "    # Add dropout to prevent overfitting during model fine-tuning.\n",
        "    classifier = tf.keras.layers.Dropout(hparams['dropout'], name='dropout')(classifier)\n",
        "    classifier = tf.keras.layers.Dense(1, activation=None, name='classifier')(classifier)\n",
        "    model = tf.keras.Model(text_input, classifier, name='bert-sentiment-classifier')\n",
        "\n",
        "    loss = tf.keras.losses.BinaryCrossentropy(from_logits=True)\n",
        "    metrics = tf.metrics.BinaryAccuracy()\n",
        "\n",
        "    model.compile(optimizer=optimizer,\n",
        "                  loss=loss,\n",
        "                  metrics=metrics)\n",
        "\n",
        "    return model\n",
        "\n",
        "\n",
        "def train_evaluate(hparams):\n",
        "    \"\"\"Train and evaluate TensorFlow BERT sentiment classifier.\n",
        "    Args:\n",
        "      hparams(dict): A dictionary containing model training arguments.\n",
        "    Returns:\n",
        "      history(tf.keras.callbacks.History): Keras callback that records training event history.\n",
        "    \"\"\"\n",
        "    dataset_dir = download_data(data_url=DATA_URL,\n",
        "                                local_data_dir=LOCAL_DATA_DIR)\n",
        "\n",
        "    raw_train_ds, raw_val_ds, raw_test_ds = load_datasets(dataset_dir=dataset_dir,\n",
        "                                                          hparams=hparams)\n",
        "\n",
        "    train_ds = raw_train_ds.cache().prefetch(buffer_size=AUTOTUNE)\n",
        "    val_ds = raw_val_ds.cache().prefetch(buffer_size=AUTOTUNE)\n",
        "    test_ds = raw_test_ds.cache().prefetch(buffer_size=AUTOTUNE)\n",
        "\n",
        "    epochs = hparams['epochs']\n",
        "    steps_per_epoch = tf.data.experimental.cardinality(train_ds).numpy()\n",
        "    n_train_steps = steps_per_epoch * epochs\n",
        "    n_warmup_steps = int(0.1 * n_train_steps)\n",
        "\n",
        "    optimizer = optimization.create_optimizer(init_lr=hparams['initial-learning-rate'],\n",
        "                                              num_train_steps=n_train_steps,\n",
        "                                              num_warmup_steps=n_warmup_steps,\n",
        "                                              optimizer_type='adamw')\n",
        "\n",
        "    mirrored_strategy = tf.distribute.MirroredStrategy()\n",
        "    with mirrored_strategy.scope():\n",
        "        model = build_text_classifier(hparams=hparams, optimizer=optimizer)\n",
        "        logging.info(model.summary())\n",
        "\n",
        "    history = model.fit(x=train_ds,\n",
        "                        validation_data=val_ds,\n",
        "                        epochs=epochs)\n",
        "\n",
        "    logging.info(\"Test accuracy: %s\", model.evaluate(test_ds))\n",
        "\n",
        "    # Export Keras model in TensorFlow SavedModel format.\n",
        "    model.save(hparams['model-dir'])\n",
        "\n",
        "    return history"
      ]
    },
    {
      "cell_type": "markdown",
      "id": "1e16b936-d93a-4411-a494-aacda93b05f4",
      "metadata": {
        "id": "1e16b936-d93a-4411-a494-aacda93b05f4"
      },
      "source": [
        "**bold text**### 2. Write a `task.py` file as an entrypoint to your custom model container"
      ]
    },
    {
      "cell_type": "code",
      "execution_count": null,
      "id": "17517e0b-a2ac-489a-bf03-357ace5d6577",
      "metadata": {
        "tags": [],
        "id": "17517e0b-a2ac-489a-bf03-357ace5d6577",
        "outputId": "d1b37a27-4352-4c8d-9f47-e65b7953d2e6"
      },
      "outputs": [
        {
          "name": "stdout",
          "output_type": "stream",
          "text": [
            "Overwriting bert-sentiment-classifier/trainer/task.py\n"
          ]
        }
      ],
      "source": [
        "%%writefile {MODEL_DIR}/trainer/task.py\n",
        "\n",
        "import os\n",
        "import argparse\n",
        "\n",
        "from trainer import model\n",
        "\n",
        "if __name__ == '__main__':\n",
        "    parser = argparse.ArgumentParser()\n",
        "    # Vertex custom container training args. These are set by Vertex AI during training but can also be overwritten.\n",
        "    parser.add_argument('--model-dir', dest='model-dir',\n",
        "                        default=os.environ['AIP_MODEL_DIR'], type=str, help='GCS URI for saving model artifacts.')\n",
        "\n",
        "    # Model training args.\n",
        "    parser.add_argument('--tfhub-bert-preprocessor', dest='tfhub-bert-preprocessor',\n",
        "                        default='https://tfhub.dev/tensorflow/bert_en_uncased_preprocess/3', type=str, help='TF-Hub URL.')\n",
        "    parser.add_argument('--tfhub-bert-encoder', dest='tfhub-bert-encoder',\n",
        "                        default='https://tfhub.dev/tensorflow/small_bert/bert_en_uncased_L-2_H-128_A-2/2', type=str, help='TF-Hub URL.')\n",
        "    parser.add_argument('--initial-learning-rate', dest='initial-learning-rate', default=3e-5, type=float, help='Learning rate for optimizer.')\n",
        "    parser.add_argument('--epochs', dest='epochs', default=2, type=int, help='Training iterations.')\n",
        "    parser.add_argument('--batch-size', dest='batch-size', default=32, type=int, help='Number of examples during each training iteration.')\n",
        "    parser.add_argument('--dropout', dest='dropout', default=0.1, type=float, help='Float percentage of DNN nodes [0,1] to drop for regularization.')\n",
        "    parser.add_argument('--seed', dest='seed', default=42, type=int, help='Random number generator seed to prevent overlap between train and val sets.')\n",
        "\n",
        "    args = parser.parse_args()\n",
        "    hparams = args.__dict__\n",
        "\n",
        "    model.train_evaluate(hparams)"
      ]
    },
    {
      "cell_type": "markdown",
      "id": "d503a04a-5f15-4503-91e9-1acc4353fd08",
      "metadata": {
        "id": "d503a04a-5f15-4503-91e9-1acc4353fd08"
      },
      "source": [
        "### 3. Write a `Dockerfile` for your custom model container"
      ]
    },
    {
      "cell_type": "markdown",
      "id": "253b0320-a3c2-4fbd-96f0-48ca3b49d485",
      "metadata": {
        "id": "253b0320-a3c2-4fbd-96f0-48ca3b49d485"
      },
      "source": [
        "Third, you will write a `Dockerfile` that contains instructions to package your model code in `bert-sentiment-classifier` as well as specifies your model code's dependencies needed for execution together in a Docker container."
      ]
    },
    {
      "cell_type": "code",
      "execution_count": null,
      "id": "b86ede10-6372-4320-89d3-264d4d1b1ca1",
      "metadata": {
        "tags": [],
        "id": "b86ede10-6372-4320-89d3-264d4d1b1ca1",
        "outputId": "598dc9ee-8b23-4f80-8a01-0704792f5fee"
      },
      "outputs": [
        {
          "name": "stdout",
          "output_type": "stream",
          "text": [
            "Overwriting bert-sentiment-classifier/Dockerfile\n"
          ]
        }
      ],
      "source": [
        "%%writefile {MODEL_DIR}/Dockerfile\n",
        "# Specifies base image and tag.\n",
        "# https://cloud.google.com/vertex-ai/docs/training/pre-built-containers\n",
        "FROM us-docker.pkg.dev/vertex-ai/training/tf-cpu.2-11:latest\n",
        "\n",
        "# Sets the container working directory.\n",
        "WORKDIR /root\n",
        "\n",
        "# Copies the requirements.txt into the container to reduce network calls.\n",
        "COPY requirements.txt .\n",
        "\n",
        "# Installs additional packages.\n",
        "RUN pip3 install -U -r requirements.txt\n",
        "\n",
        "# b/203105209 Removes unneeded file from TF2.5 CPU image for python_module CustomJob training.\n",
        "# Will be removed on subsequent public Vertex images.\n",
        "RUN rm -rf /var/sitecustomize/sitecustomize.py\n",
        "\n",
        "# Copies the trainer code to the docker image.\n",
        "COPY . /trainer\n",
        "\n",
        "# Sets the container working directory.\n",
        "WORKDIR /trainer\n",
        "\n",
        "# Sets up the entry point to invoke the trainer.\n",
        "ENTRYPOINT [\"python\", \"-m\", \"trainer.task\"]"
      ]
    },
    {
      "cell_type": "markdown",
      "id": "f2974866-46f7-4f16-b6c0-9ea420ea6d73",
      "metadata": {
        "id": "f2974866-46f7-4f16-b6c0-9ea420ea6d73"
      },
      "source": [
        "### 4. Write a `requirements.txt` file to specify additional ML code dependencies"
      ]
    },
    {
      "cell_type": "markdown",
      "id": "e7d62327-31c6-4ae5-819c-f59fb16e58c3",
      "metadata": {
        "id": "e7d62327-31c6-4ae5-819c-f59fb16e58c3"
      },
      "source": [
        "These are additional dependencies for your model code not included in the pre-built Vertex TensorFlow images such as TF-Hub, TensorFlow AdamW optimizer, and TensorFlow Text needed for importing and working with pre-trained TensorFlow BERT models."
      ]
    },
    {
      "cell_type": "code",
      "execution_count": null,
      "id": "fe7619e1-fff9-4a47-90a8-3ba9b55e74c7",
      "metadata": {
        "tags": [],
        "id": "fe7619e1-fff9-4a47-90a8-3ba9b55e74c7",
        "outputId": "97a4bc5e-45bf-4048-ef6d-c05be870c3a6"
      },
      "outputs": [
        {
          "name": "stdout",
          "output_type": "stream",
          "text": [
            "Overwriting bert-sentiment-classifier/requirements.txt\n"
          ]
        }
      ],
      "source": [
        "%%writefile {MODEL_DIR}/requirements.txt\n",
        "tf-models-official==2.15.0\n",
        "tensorflow-text==2.15.0\n",
        "tensorflow-hub==0.16.1"
      ]
    },
    {
      "cell_type": "markdown",
      "id": "81292584-7a08-4c92-a9ba-e3dbc7005130",
      "metadata": {
        "id": "81292584-7a08-4c92-a9ba-e3dbc7005130"
      },
      "source": [
        "## Use Cloud Build to build and submit your model container to Artifact Registry"
      ]
    },
    {
      "cell_type": "markdown",
      "id": "6d47400c-aa7c-4929-a584-f5067bd682eb",
      "metadata": {
        "id": "6d47400c-aa7c-4929-a584-f5067bd682eb"
      },
      "source": [
        "Next, you will use [Cloud Build](https://cloud.google.com/build) to build and upload your custom TensorFlow model container to [Google Cloud Artifact Registry](https://cloud.google.com/artifact-registry).\n",
        "\n",
        "Cloud Build brings reusability and automation to your ML experimentation by enabling you to reliably build, test, and deploy your ML model code as part of a CI/CD workflow. Artifact Registry provides a centralized repository for you to store, manage, and secure your ML container images. This will allow you to securely share your ML work with others and reproduce experiment results.\n",
        "\n",
        "**Note**: the initial build and submit step will take about 16 minutes but Cloud Build is able to take advantage of caching for faster subsequent builds."
      ]
    },
    {
      "cell_type": "markdown",
      "id": "860c0d02-200f-4cc3-bdfd-ba96d233ecc4",
      "metadata": {
        "id": "860c0d02-200f-4cc3-bdfd-ba96d233ecc4"
      },
      "source": [
        "### 1. Create Artifact Registry for custom container images\n",
        "\n",
        "**NOTE:** For any help to create the Artifact Registry, you can refer this [Documentation](https://cloud.google.com/sdk/gcloud/reference/artifacts/repositories/create)."
      ]
    },
    {
      "cell_type": "code",
      "execution_count": null,
      "id": "f9918475-f6dc-4fa3-8249-47976e68f529",
      "metadata": {
        "tags": [],
        "id": "f9918475-f6dc-4fa3-8249-47976e68f529"
      },
      "outputs": [],
      "source": [
        "ARTIFACT_REGISTRY=\"bert-sentiment-classifier\""
      ]
    },
    {
      "cell_type": "code",
      "execution_count": null,
      "id": "93d9566d-c6c4-48c8-b4f8-ad239e5ae349",
      "metadata": {
        "tags": [],
        "id": "93d9566d-c6c4-48c8-b4f8-ad239e5ae349",
        "outputId": "e10cca75-6005-46b8-e433-5f21d85f69a9"
      },
      "outputs": [
        {
          "name": "stdout",
          "output_type": "stream",
          "text": [
            "Create request issued for: [bert-sentiment-classifier]\n",
            "Waiting for operation [projects/qwiklabs-gcp-02-d1e31d62172f/locations/us-east1\n",
            "/operations/c18d9900-98d2-47f6-855d-1b258311379c] to complete...done.          \n",
            "Created repository [bert-sentiment-classifier].\n"
          ]
        }
      ],
      "source": [
        "# TODO: create a Docker Artifact Registry using the gcloud CLI. Note the required 'repository-format', 'location' and 'description' flags while creating the Artifact Registry.\n",
        "# Documentation link: https://cloud.google.com/sdk/gcloud/reference/artifacts/repositories/create\n",
        "!gcloud artifacts repositories create {ARTIFACT_REGISTRY} \\\n",
        "--repository-format=docker \\\n",
        "--location={REGION} \\\n",
        "--description=\"Artifact registry for ML custom training images for sentiment classisfication\"\n"
      ]
    },
    {
      "cell_type": "markdown",
      "id": "e900832e-de90-4ba1-ba7d-7973a1de9cc1",
      "metadata": {
        "id": "e900832e-de90-4ba1-ba7d-7973a1de9cc1"
      },
      "source": [
        "### 2. Create `cloudbuild.yaml` instructions"
      ]
    },
    {
      "cell_type": "code",
      "execution_count": null,
      "id": "b580619d-957c-409f-ac15-ccbc0bb79a57",
      "metadata": {
        "tags": [],
        "id": "b580619d-957c-409f-ac15-ccbc0bb79a57"
      },
      "outputs": [],
      "source": [
        "IMAGE_NAME=\"bert-sentiment-classifier\"\n",
        "IMAGE_TAG=\"latest\"\n",
        "IMAGE_URI=f\"{REGION}-docker.pkg.dev/{PROJECT_ID}/{ARTIFACT_REGISTRY}/{IMAGE_NAME}:{IMAGE_TAG}\""
      ]
    },
    {
      "cell_type": "code",
      "execution_count": null,
      "id": "24790970-988e-4694-b8cd-a2d9d500c11b",
      "metadata": {
        "tags": [],
        "id": "24790970-988e-4694-b8cd-a2d9d500c11b"
      },
      "outputs": [],
      "source": [
        "cloudbuild_yaml = f\"\"\"steps:\n",
        "- name: 'gcr.io/cloud-builders/docker'\n",
        "  args: [ 'build', '-t', '{IMAGE_URI}', '.' ]\n",
        "images:\n",
        "- '{IMAGE_URI}'\"\"\"\n",
        "\n",
        "with open(f\"{MODEL_DIR}/cloudbuild.yaml\", \"w\") as fp:\n",
        "    fp.write(cloudbuild_yaml)"
      ]
    },
    {
      "cell_type": "markdown",
      "id": "9c14b9c6-c120-482d-b5ab-c6a4c53bb205",
      "metadata": {
        "id": "9c14b9c6-c120-482d-b5ab-c6a4c53bb205"
      },
      "source": [
        "### 3. Build and submit your container image to Artifact Registry using Cloud Build"
      ]
    },
    {
      "cell_type": "markdown",
      "id": "31e154b1-e584-496c-97b4-14795f80928b",
      "metadata": {
        "id": "31e154b1-e584-496c-97b4-14795f80928b"
      },
      "source": [
        "**Note:** your custom model container will take about 16 minutes initially to build and submit to your Artifact Registry. Artifact Registry is able to take advantage of caching so subsequent builds take about 10 minutes. For any help to submit a build, you can refer this [**documentation**](https://cloud.google.com/sdk/gcloud/reference/builds/submit)."
      ]
    },
    {
      "cell_type": "code",
      "execution_count": null,
      "id": "3ebf0093-d66e-49c1-8a55-047020735e60",
      "metadata": {
        "tags": [],
        "id": "3ebf0093-d66e-49c1-8a55-047020735e60",
        "outputId": "c617652e-8389-4cfa-9d93-35b0b1c1beb9"
      },
      "outputs": [
        {
          "name": "stdout",
          "output_type": "stream",
          "text": [
            "Creating temporary archive of 6 file(s) totalling 8.5 KiB before compression.\n",
            "Uploading tarball of [bert-sentiment-classifier] to [gs://qwiklabs-gcp-02-d1e31d62172f_cloudbuild/source/1732405836.667386-e6152380b7a84d10976506cae02209e3.tgz]\n",
            "Created [https://cloudbuild.googleapis.com/v1/projects/qwiklabs-gcp-02-d1e31d62172f/locations/global/builds/e5b6e702-ea84-4962-a9aa-6f71bca167b8].\n",
            "Logs are available at [ https://console.cloud.google.com/cloud-build/builds/e5b6e702-ea84-4962-a9aa-6f71bca167b8?project=136170100510 ].\n",
            "Waiting for build to complete. Polling interval: 1 second(s).\n",
            "----------------------------- REMOTE BUILD OUTPUT ------------------------------\n",
            "starting build \"e5b6e702-ea84-4962-a9aa-6f71bca167b8\"\n",
            "\n",
            "FETCHSOURCE\n",
            "Fetching storage object: gs://qwiklabs-gcp-02-d1e31d62172f_cloudbuild/source/1732405836.667386-e6152380b7a84d10976506cae02209e3.tgz#1732405838106573\n",
            "Copying gs://qwiklabs-gcp-02-d1e31d62172f_cloudbuild/source/1732405836.667386-e6152380b7a84d10976506cae02209e3.tgz#1732405838106573...\n",
            "/ [1 files][  3.4 KiB/  3.4 KiB]                                                \n",
            "Operation completed over 1 objects/3.4 KiB.\n",
            "tar: trainer/__init__.py: time stamp 2049-01-01 00:00:00 is 760666154.184189495 s in the future\n",
            "BUILD\n",
            "Already have image (with digest): gcr.io/cloud-builders/docker\n",
            "Sending build context to Docker daemon  14.85kB\n",
            "Step 1/8 : FROM us-docker.pkg.dev/vertex-ai/training/tf-cpu.2-11:latest\n",
            "latest: Pulling from vertex-ai/training/tf-cpu.2-11\n",
            "57c139bbda7e: Pulling fs layer\n",
            "b36d8262105c: Pulling fs layer\n",
            "6289371d2bb3: Pulling fs layer\n",
            "481786a11c6e: Pulling fs layer\n",
            "275a246fad1f: Pulling fs layer\n",
            "6391690ddce2: Pulling fs layer\n",
            "bbce0e9b489f: Pulling fs layer\n",
            "a7ec0c7527b6: Pulling fs layer\n",
            "7aff549e4c97: Pulling fs layer\n",
            "4f4fb700ef54: Pulling fs layer\n",
            "e4bff5ce614c: Pulling fs layer\n",
            "2999545bd192: Pulling fs layer\n",
            "bd33b5a5ec4a: Pulling fs layer\n",
            "8fea5fa58717: Pulling fs layer\n",
            "a73bd9480671: Pulling fs layer\n",
            "139c41303dbe: Pulling fs layer\n",
            "d7df78d5fe61: Pulling fs layer\n",
            "7daa1f38b6ab: Pulling fs layer\n",
            "bce9940ec07e: Pulling fs layer\n",
            "01f79f64a163: Pulling fs layer\n",
            "5113ced62272: Pulling fs layer\n",
            "aa0eae780ea1: Pulling fs layer\n",
            "caeb9ac3c484: Pulling fs layer\n",
            "481786a11c6e: Waiting\n",
            "275a246fad1f: Waiting\n",
            "6391690ddce2: Waiting\n",
            "bbce0e9b489f: Waiting\n",
            "a7ec0c7527b6: Waiting\n",
            "7aff549e4c97: Waiting\n",
            "4f4fb700ef54: Waiting\n",
            "8fea5fa58717: Waiting\n",
            "a73bd9480671: Waiting\n",
            "139c41303dbe: Waiting\n",
            "d7df78d5fe61: Waiting\n",
            "7daa1f38b6ab: Waiting\n",
            "bce9940ec07e: Waiting\n",
            "01f79f64a163: Waiting\n",
            "5113ced62272: Waiting\n",
            "aa0eae780ea1: Waiting\n",
            "caeb9ac3c484: Waiting\n",
            "e4bff5ce614c: Waiting\n",
            "2999545bd192: Waiting\n",
            "bd33b5a5ec4a: Waiting\n",
            "6289371d2bb3: Download complete\n",
            "b36d8262105c: Verifying Checksum\n",
            "b36d8262105c: Download complete\n",
            "275a246fad1f: Verifying Checksum\n",
            "275a246fad1f: Download complete\n",
            "57c139bbda7e: Verifying Checksum\n",
            "57c139bbda7e: Download complete\n",
            "bbce0e9b489f: Download complete\n",
            "481786a11c6e: Verifying Checksum\n",
            "481786a11c6e: Download complete\n",
            "6391690ddce2: Verifying Checksum\n",
            "6391690ddce2: Download complete\n",
            "a7ec0c7527b6: Verifying Checksum\n",
            "a7ec0c7527b6: Download complete\n",
            "4f4fb700ef54: Verifying Checksum\n",
            "4f4fb700ef54: Download complete\n",
            "e4bff5ce614c: Verifying Checksum\n",
            "e4bff5ce614c: Download complete\n",
            "bd33b5a5ec4a: Verifying Checksum\n",
            "bd33b5a5ec4a: Download complete\n",
            "2999545bd192: Verifying Checksum\n",
            "2999545bd192: Download complete\n",
            "a73bd9480671: Verifying Checksum\n",
            "a73bd9480671: Download complete\n",
            "8fea5fa58717: Verifying Checksum\n",
            "8fea5fa58717: Download complete\n",
            "d7df78d5fe61: Verifying Checksum\n",
            "d7df78d5fe61: Download complete\n",
            "7daa1f38b6ab: Download complete\n",
            "bce9940ec07e: Verifying Checksum\n",
            "bce9940ec07e: Download complete\n",
            "01f79f64a163: Download complete\n",
            "5113ced62272: Verifying Checksum\n",
            "5113ced62272: Download complete\n",
            "aa0eae780ea1: Verifying Checksum\n",
            "aa0eae780ea1: Download complete\n",
            "caeb9ac3c484: Verifying Checksum\n",
            "caeb9ac3c484: Download complete\n",
            "57c139bbda7e: Pull complete\n",
            "b36d8262105c: Pull complete\n",
            "6289371d2bb3: Pull complete\n",
            "139c41303dbe: Verifying Checksum\n",
            "139c41303dbe: Download complete\n",
            "7aff549e4c97: Verifying Checksum\n",
            "7aff549e4c97: Download complete\n",
            "481786a11c6e: Pull complete\n",
            "275a246fad1f: Pull complete\n",
            "6391690ddce2: Pull complete\n",
            "bbce0e9b489f: Pull complete\n",
            "a7ec0c7527b6: Pull complete\n",
            "7aff549e4c97: Pull complete\n",
            "4f4fb700ef54: Pull complete\n",
            "e4bff5ce614c: Pull complete\n",
            "2999545bd192: Pull complete\n",
            "bd33b5a5ec4a: Pull complete\n",
            "8fea5fa58717: Pull complete\n",
            "a73bd9480671: Pull complete\n",
            "139c41303dbe: Pull complete\n",
            "d7df78d5fe61: Pull complete\n",
            "7daa1f38b6ab: Pull complete\n",
            "bce9940ec07e: Pull complete\n",
            "01f79f64a163: Pull complete\n",
            "5113ced62272: Pull complete\n",
            "aa0eae780ea1: Pull complete\n",
            "caeb9ac3c484: Pull complete\n",
            "Digest: sha256:07e7ea696bf78f9e51c481f74c4cee100c00870cad74b04de849aea7e66f8c51\n",
            "Status: Downloaded newer image for us-docker.pkg.dev/vertex-ai/training/tf-cpu.2-11:latest\n",
            " ---> 2c270b121e81\n",
            "Step 2/8 : WORKDIR /root\n",
            " ---> Running in 09c97281cb88\n",
            "Removing intermediate container 09c97281cb88\n",
            " ---> 67bababcf16b\n",
            "Step 3/8 : COPY requirements.txt .\n",
            " ---> db0e6d985617\n",
            "Step 4/8 : RUN pip3 install -U -r requirements.txt\n",
            " ---> Running in d0ff29da71ab\n",
            "Collecting tf-models-official==2.15.0 (from -r requirements.txt (line 1))\n",
            "  Downloading tf_models_official-2.15.0-py2.py3-none-any.whl.metadata (1.4 kB)\n",
            "Collecting tensorflow-text==2.15.0 (from -r requirements.txt (line 2))\n",
            "  Downloading tensorflow_text-2.15.0-cp310-cp310-manylinux_2_17_x86_64.manylinux2014_x86_64.whl.metadata (1.9 kB)\n",
            "Collecting tensorflow-hub==0.16.1 (from -r requirements.txt (line 3))\n",
            "  Downloading tensorflow_hub-0.16.1-py2.py3-none-any.whl.metadata (1.3 kB)\n",
            "Requirement already satisfied: Cython in /opt/conda/lib/python3.10/site-packages (from tf-models-official==2.15.0->-r requirements.txt (line 1)) (3.0.8)\n",
            "Requirement already satisfied: Pillow in /opt/conda/lib/python3.10/site-packages (from tf-models-official==2.15.0->-r requirements.txt (line 1)) (10.2.0)\n",
            "Collecting gin-config (from tf-models-official==2.15.0->-r requirements.txt (line 1))\n",
            "  Downloading gin_config-0.5.0-py3-none-any.whl.metadata (2.9 kB)\n",
            "Requirement already satisfied: google-api-python-client>=1.6.7 in /opt/conda/lib/python3.10/site-packages (from tf-models-official==2.15.0->-r requirements.txt (line 1)) (2.118.0)\n",
            "Collecting immutabledict (from tf-models-official==2.15.0->-r requirements.txt (line 1))\n",
            "  Downloading immutabledict-4.2.1-py3-none-any.whl.metadata (3.5 kB)\n",
            "Collecting kaggle>=1.3.9 (from tf-models-official==2.15.0->-r requirements.txt (line 1))\n",
            "  Downloading kaggle-1.6.17.tar.gz (82 kB)\n",
            "     ━━━━━━━━━━━━━━━━━━━━━━━━━━━━━━━━━━━━━━━━ 82.7/82.7 kB 3.3 MB/s eta 0:00:00\n",
            "  Preparing metadata (setup.py): started\n",
            "  Preparing metadata (setup.py): finished with status 'done'\n",
            "Requirement already satisfied: matplotlib in /opt/conda/lib/python3.10/site-packages (from tf-models-official==2.15.0->-r requirements.txt (line 1)) (3.8.3)\n",
            "Requirement already satisfied: numpy>=1.20 in /opt/conda/lib/python3.10/site-packages (from tf-models-official==2.15.0->-r requirements.txt (line 1)) (1.26.4)\n",
            "Requirement already satisfied: oauth2client in /opt/conda/lib/python3.10/site-packages (from tf-models-official==2.15.0->-r requirements.txt (line 1)) (4.1.3)\n",
            "Collecting opencv-python-headless (from tf-models-official==2.15.0->-r requirements.txt (line 1))\n",
            "  Downloading opencv_python_headless-4.10.0.84-cp37-abi3-manylinux_2_17_x86_64.manylinux2014_x86_64.whl.metadata (20 kB)\n",
            "Requirement already satisfied: pandas>=0.22.0 in /opt/conda/lib/python3.10/site-packages (from tf-models-official==2.15.0->-r requirements.txt (line 1)) (2.2.0)\n",
            "Requirement already satisfied: psutil>=5.4.3 in /opt/conda/lib/python3.10/site-packages (from tf-models-official==2.15.0->-r requirements.txt (line 1)) (5.9.8)\n",
            "Collecting py-cpuinfo>=3.3.0 (from tf-models-official==2.15.0->-r requirements.txt (line 1))\n",
            "  Downloading py_cpuinfo-9.0.0-py3-none-any.whl.metadata (794 bytes)\n",
            "Collecting pycocotools (from tf-models-official==2.15.0->-r requirements.txt (line 1))\n",
            "  Downloading pycocotools-2.0.8-cp310-cp310-manylinux_2_17_x86_64.manylinux2014_x86_64.whl.metadata (1.1 kB)\n",
            "Requirement already satisfied: pyyaml>=6.0.0 in /opt/conda/lib/python3.10/site-packages (from tf-models-official==2.15.0->-r requirements.txt (line 1)) (6.0.1)\n",
            "Collecting sacrebleu (from tf-models-official==2.15.0->-r requirements.txt (line 1))\n",
            "  Downloading sacrebleu-2.4.3-py3-none-any.whl.metadata (51 kB)\n",
            "     ━━━━━━━━━━━━━━━━━━━━━━━━━━━━━━━━━━━━━━━━ 51.8/51.8 kB 5.8 MB/s eta 0:00:00\n",
            "Requirement already satisfied: scipy>=0.19.1 in /opt/conda/lib/python3.10/site-packages (from tf-models-official==2.15.0->-r requirements.txt (line 1)) (1.12.0)\n",
            "Collecting sentencepiece (from tf-models-official==2.15.0->-r requirements.txt (line 1))\n",
            "  Downloading sentencepiece-0.2.0-cp310-cp310-manylinux_2_17_x86_64.manylinux2014_x86_64.whl.metadata (7.7 kB)\n",
            "Collecting seqeval (from tf-models-official==2.15.0->-r requirements.txt (line 1))\n",
            "  Downloading seqeval-1.2.2.tar.gz (43 kB)\n",
            "     ━━━━━━━━━━━━━━━━━━━━━━━━━━━━━━━━━━━━━━━━ 43.6/43.6 kB 5.0 MB/s eta 0:00:00\n",
            "  Preparing metadata (setup.py): started\n",
            "  Preparing metadata (setup.py): finished with status 'done'\n",
            "Requirement already satisfied: six in /opt/conda/lib/python3.10/site-packages (from tf-models-official==2.15.0->-r requirements.txt (line 1)) (1.16.0)\n",
            "Collecting tensorflow-datasets (from tf-models-official==2.15.0->-r requirements.txt (line 1))\n",
            "  Downloading tensorflow_datasets-4.9.7-py3-none-any.whl.metadata (9.6 kB)\n",
            "Collecting tensorflow-model-optimization>=0.4.1 (from tf-models-official==2.15.0->-r requirements.txt (line 1))\n",
            "  Downloading tensorflow_model_optimization-0.8.0-py2.py3-none-any.whl.metadata (904 bytes)\n",
            "Collecting tensorflow~=2.15.0 (from tf-models-official==2.15.0->-r requirements.txt (line 1))\n",
            "  Downloading tensorflow-2.15.1-cp310-cp310-manylinux_2_17_x86_64.manylinux2014_x86_64.whl.metadata (4.2 kB)\n",
            "Collecting tf-slim>=1.1.0 (from tf-models-official==2.15.0->-r requirements.txt (line 1))\n",
            "  Downloading tf_slim-1.1.0-py2.py3-none-any.whl.metadata (1.6 kB)\n",
            "Requirement already satisfied: protobuf>=3.19.6 in /opt/conda/lib/python3.10/site-packages (from tensorflow-hub==0.16.1->-r requirements.txt (line 3)) (3.20.1)\n",
            "Collecting tf-keras>=2.14.1 (from tensorflow-hub==0.16.1->-r requirements.txt (line 3))\n",
            "  Downloading tf_keras-2.18.0-py3-none-any.whl.metadata (1.6 kB)\n",
            "Requirement already satisfied: httplib2<1.dev0,>=0.15.0 in /opt/conda/lib/python3.10/site-packages (from google-api-python-client>=1.6.7->tf-models-official==2.15.0->-r requirements.txt (line 1)) (0.22.0)\n",
            "Requirement already satisfied: google-auth<3.0.0.dev0,>=1.19.0 in /opt/conda/lib/python3.10/site-packages (from google-api-python-client>=1.6.7->tf-models-official==2.15.0->-r requirements.txt (line 1)) (2.27.0)\n",
            "Requirement already satisfied: google-auth-httplib2>=0.1.0 in /opt/conda/lib/python3.10/site-packages (from google-api-python-client>=1.6.7->tf-models-official==2.15.0->-r requirements.txt (line 1)) (0.2.0)\n",
            "Requirement already satisfied: google-api-core!=2.0.*,!=2.1.*,!=2.2.*,!=2.3.0,<3.0.0.dev0,>=1.31.5 in /opt/conda/lib/python3.10/site-packages (from google-api-python-client>=1.6.7->tf-models-official==2.15.0->-r requirements.txt (line 1)) (2.10.1)\n",
            "Requirement already satisfied: uritemplate<5,>=3.0.1 in /opt/conda/lib/python3.10/site-packages (from google-api-python-client>=1.6.7->tf-models-official==2.15.0->-r requirements.txt (line 1)) (4.1.1)\n",
            "Requirement already satisfied: certifi>=2023.7.22 in /opt/conda/lib/python3.10/site-packages (from kaggle>=1.3.9->tf-models-official==2.15.0->-r requirements.txt (line 1)) (2024.2.2)\n",
            "Requirement already satisfied: python-dateutil in /opt/conda/lib/python3.10/site-packages (from kaggle>=1.3.9->tf-models-official==2.15.0->-r requirements.txt (line 1)) (2.8.2)\n",
            "Requirement already satisfied: requests in /opt/conda/lib/python3.10/site-packages (from kaggle>=1.3.9->tf-models-official==2.15.0->-r requirements.txt (line 1)) (2.31.0)\n",
            "Requirement already satisfied: tqdm in /opt/conda/lib/python3.10/site-packages (from kaggle>=1.3.9->tf-models-official==2.15.0->-r requirements.txt (line 1)) (4.66.2)\n",
            "Collecting python-slugify (from kaggle>=1.3.9->tf-models-official==2.15.0->-r requirements.txt (line 1))\n",
            "  Downloading python_slugify-8.0.4-py2.py3-none-any.whl.metadata (8.5 kB)\n",
            "Requirement already satisfied: urllib3 in /opt/conda/lib/python3.10/site-packages (from kaggle>=1.3.9->tf-models-official==2.15.0->-r requirements.txt (line 1)) (2.2.0)\n",
            "Collecting bleach (from kaggle>=1.3.9->tf-models-official==2.15.0->-r requirements.txt (line 1))\n",
            "  Downloading bleach-6.2.0-py3-none-any.whl.metadata (30 kB)\n",
            "Requirement already satisfied: pytz>=2020.1 in /opt/conda/lib/python3.10/site-packages (from pandas>=0.22.0->tf-models-official==2.15.0->-r requirements.txt (line 1)) (2024.1)\n",
            "Requirement already satisfied: tzdata>=2022.7 in /opt/conda/lib/python3.10/site-packages (from pandas>=0.22.0->tf-models-official==2.15.0->-r requirements.txt (line 1)) (2024.1)\n",
            "Requirement already satisfied: absl-py>=1.0.0 in /opt/conda/lib/python3.10/site-packages (from tensorflow~=2.15.0->tf-models-official==2.15.0->-r requirements.txt (line 1)) (2.1.0)\n",
            "Requirement already satisfied: astunparse>=1.6.0 in /opt/conda/lib/python3.10/site-packages (from tensorflow~=2.15.0->tf-models-official==2.15.0->-r requirements.txt (line 1)) (1.6.3)\n",
            "Requirement already satisfied: flatbuffers>=23.5.26 in /opt/conda/lib/python3.10/site-packages (from tensorflow~=2.15.0->tf-models-official==2.15.0->-r requirements.txt (line 1)) (23.5.26)\n",
            "Requirement already satisfied: gast!=0.5.0,!=0.5.1,!=0.5.2,>=0.2.1 in /opt/conda/lib/python3.10/site-packages (from tensorflow~=2.15.0->tf-models-official==2.15.0->-r requirements.txt (line 1)) (0.4.0)\n",
            "Requirement already satisfied: google-pasta>=0.1.1 in /opt/conda/lib/python3.10/site-packages (from tensorflow~=2.15.0->tf-models-official==2.15.0->-r requirements.txt (line 1)) (0.2.0)\n",
            "Requirement already satisfied: h5py>=2.9.0 in /opt/conda/lib/python3.10/site-packages (from tensorflow~=2.15.0->tf-models-official==2.15.0->-r requirements.txt (line 1)) (3.10.0)\n",
            "Requirement already satisfied: libclang>=13.0.0 in /opt/conda/lib/python3.10/site-packages (from tensorflow~=2.15.0->tf-models-official==2.15.0->-r requirements.txt (line 1)) (16.0.6)\n",
            "Collecting ml-dtypes~=0.3.1 (from tensorflow~=2.15.0->tf-models-official==2.15.0->-r requirements.txt (line 1))\n",
            "  Downloading ml_dtypes-0.3.2-cp310-cp310-manylinux_2_17_x86_64.manylinux2014_x86_64.whl.metadata (20 kB)\n",
            "Requirement already satisfied: opt-einsum>=2.3.2 in /opt/conda/lib/python3.10/site-packages (from tensorflow~=2.15.0->tf-models-official==2.15.0->-r requirements.txt (line 1)) (3.3.0)\n",
            "Requirement already satisfied: packaging in /opt/conda/lib/python3.10/site-packages (from tensorflow~=2.15.0->tf-models-official==2.15.0->-r requirements.txt (line 1)) (23.2)\n",
            "Collecting protobuf>=3.19.6 (from tensorflow-hub==0.16.1->-r requirements.txt (line 3))\n",
            "  Downloading protobuf-4.25.5-cp37-abi3-manylinux2014_x86_64.whl.metadata (541 bytes)\n",
            "Requirement already satisfied: setuptools in /opt/conda/lib/python3.10/site-packages (from tensorflow~=2.15.0->tf-models-official==2.15.0->-r requirements.txt (line 1)) (69.0.3)\n",
            "Requirement already satisfied: termcolor>=1.1.0 in /opt/conda/lib/python3.10/site-packages (from tensorflow~=2.15.0->tf-models-official==2.15.0->-r requirements.txt (line 1)) (2.4.0)\n",
            "Requirement already satisfied: typing-extensions>=3.6.6 in /opt/conda/lib/python3.10/site-packages (from tensorflow~=2.15.0->tf-models-official==2.15.0->-r requirements.txt (line 1)) (4.9.0)\n",
            "Collecting wrapt<1.15,>=1.11.0 (from tensorflow~=2.15.0->tf-models-official==2.15.0->-r requirements.txt (line 1))\n",
            "  Downloading wrapt-1.14.1-cp310-cp310-manylinux_2_5_x86_64.manylinux1_x86_64.manylinux_2_17_x86_64.manylinux2014_x86_64.whl.metadata (6.7 kB)\n",
            "Requirement already satisfied: tensorflow-io-gcs-filesystem>=0.23.1 in /opt/conda/lib/python3.10/site-packages (from tensorflow~=2.15.0->tf-models-official==2.15.0->-r requirements.txt (line 1)) (0.29.0)\n",
            "Requirement already satisfied: grpcio<2.0,>=1.24.3 in /opt/conda/lib/python3.10/site-packages (from tensorflow~=2.15.0->tf-models-official==2.15.0->-r requirements.txt (line 1)) (1.60.1)\n",
            "Collecting tensorboard<2.16,>=2.15 (from tensorflow~=2.15.0->tf-models-official==2.15.0->-r requirements.txt (line 1))\n",
            "  Downloading tensorboard-2.15.2-py3-none-any.whl.metadata (1.7 kB)\n",
            "Collecting tensorflow-estimator<2.16,>=2.15.0 (from tensorflow~=2.15.0->tf-models-official==2.15.0->-r requirements.txt (line 1))\n",
            "  Downloading tensorflow_estimator-2.15.0-py2.py3-none-any.whl.metadata (1.3 kB)\n",
            "Collecting keras<2.16,>=2.15.0 (from tensorflow~=2.15.0->tf-models-official==2.15.0->-r requirements.txt (line 1))\n",
            "  Downloading keras-2.15.0-py3-none-any.whl.metadata (2.4 kB)\n",
            "Collecting absl-py>=1.0.0 (from tensorflow~=2.15.0->tf-models-official==2.15.0->-r requirements.txt (line 1))\n",
            "  Downloading absl_py-1.4.0-py3-none-any.whl.metadata (2.3 kB)\n",
            "Requirement already satisfied: dm-tree~=0.1.1 in /opt/conda/lib/python3.10/site-packages (from tensorflow-model-optimization>=0.4.1->tf-models-official==2.15.0->-r requirements.txt (line 1)) (0.1.8)\n",
            "INFO: pip is looking at multiple versions of tf-keras to determine which version is compatible with other requirements. This could take a while.\n",
            "Collecting tf-keras>=2.14.1 (from tensorflow-hub==0.16.1->-r requirements.txt (line 3))\n",
            "  Downloading tf_keras-2.17.0-py3-none-any.whl.metadata (1.6 kB)\n",
            "  Downloading tf_keras-2.16.0-py3-none-any.whl.metadata (1.6 kB)\n",
            "  Downloading tf_keras-2.15.1-py3-none-any.whl.metadata (1.7 kB)\n",
            "Requirement already satisfied: contourpy>=1.0.1 in /opt/conda/lib/python3.10/site-packages (from matplotlib->tf-models-official==2.15.0->-r requirements.txt (line 1)) (1.2.0)\n",
            "Requirement already satisfied: cycler>=0.10 in /opt/conda/lib/python3.10/site-packages (from matplotlib->tf-models-official==2.15.0->-r requirements.txt (line 1)) (0.12.1)\n",
            "Requirement already satisfied: fonttools>=4.22.0 in /opt/conda/lib/python3.10/site-packages (from matplotlib->tf-models-official==2.15.0->-r requirements.txt (line 1)) (4.48.1)\n",
            "Requirement already satisfied: kiwisolver>=1.3.1 in /opt/conda/lib/python3.10/site-packages (from matplotlib->tf-models-official==2.15.0->-r requirements.txt (line 1)) (1.4.5)\n",
            "Requirement already satisfied: pyparsing>=2.3.1 in /opt/conda/lib/python3.10/site-packages (from matplotlib->tf-models-official==2.15.0->-r requirements.txt (line 1)) (3.1.1)\n",
            "Requirement already satisfied: pyasn1>=0.1.7 in /opt/conda/lib/python3.10/site-packages (from oauth2client->tf-models-official==2.15.0->-r requirements.txt (line 1)) (0.5.1)\n",
            "Requirement already satisfied: pyasn1-modules>=0.0.5 in /opt/conda/lib/python3.10/site-packages (from oauth2client->tf-models-official==2.15.0->-r requirements.txt (line 1)) (0.3.0)\n",
            "Requirement already satisfied: rsa>=3.1.4 in /opt/conda/lib/python3.10/site-packages (from oauth2client->tf-models-official==2.15.0->-r requirements.txt (line 1)) (4.9)\n",
            "Collecting portalocker (from sacrebleu->tf-models-official==2.15.0->-r requirements.txt (line 1))\n",
            "  Downloading portalocker-3.0.0-py3-none-any.whl.metadata (8.5 kB)\n",
            "Collecting regex (from sacrebleu->tf-models-official==2.15.0->-r requirements.txt (line 1))\n",
            "  Downloading regex-2024.11.6-cp310-cp310-manylinux_2_17_x86_64.manylinux2014_x86_64.whl.metadata (40 kB)\n",
            "     ━━━━━━━━━━━━━━━━━━━━━━━━━━━━━━━━━━━━━━━━ 40.5/40.5 kB 4.5 MB/s eta 0:00:00\n",
            "Requirement already satisfied: tabulate>=0.8.9 in /opt/conda/lib/python3.10/site-packages (from sacrebleu->tf-models-official==2.15.0->-r requirements.txt (line 1)) (0.9.0)\n",
            "Requirement already satisfied: colorama in /opt/conda/lib/python3.10/site-packages (from sacrebleu->tf-models-official==2.15.0->-r requirements.txt (line 1)) (0.4.6)\n",
            "Collecting lxml (from sacrebleu->tf-models-official==2.15.0->-r requirements.txt (line 1))\n",
            "  Downloading lxml-5.3.0-cp310-cp310-manylinux_2_28_x86_64.whl.metadata (3.8 kB)\n",
            "Requirement already satisfied: scikit-learn>=0.21.3 in /opt/conda/lib/python3.10/site-packages (from seqeval->tf-models-official==2.15.0->-r requirements.txt (line 1)) (1.0.2)\n",
            "Requirement already satisfied: click in /opt/conda/lib/python3.10/site-packages (from tensorflow-datasets->tf-models-official==2.15.0->-r requirements.txt (line 1)) (8.1.7)\n",
            "Collecting promise (from tensorflow-datasets->tf-models-official==2.15.0->-r requirements.txt (line 1))\n",
            "  Downloading promise-2.3.tar.gz (19 kB)\n",
            "  Preparing metadata (setup.py): started\n",
            "  Preparing metadata (setup.py): finished with status 'done'\n",
            "Requirement already satisfied: pyarrow in /opt/conda/lib/python3.10/site-packages (from tensorflow-datasets->tf-models-official==2.15.0->-r requirements.txt (line 1)) (15.0.0)\n",
            "Collecting simple-parsing (from tensorflow-datasets->tf-models-official==2.15.0->-r requirements.txt (line 1))\n",
            "  Downloading simple_parsing-0.1.6-py3-none-any.whl.metadata (7.3 kB)\n",
            "Collecting tensorflow-metadata (from tensorflow-datasets->tf-models-official==2.15.0->-r requirements.txt (line 1))\n",
            "  Downloading tensorflow_metadata-1.16.1-py3-none-any.whl.metadata (2.4 kB)\n",
            "Collecting toml (from tensorflow-datasets->tf-models-official==2.15.0->-r requirements.txt (line 1))\n",
            "  Downloading toml-0.10.2-py2.py3-none-any.whl.metadata (7.1 kB)\n",
            "Collecting array-record>=0.5.0 (from tensorflow-datasets->tf-models-official==2.15.0->-r requirements.txt (line 1))\n",
            "  Downloading array_record-0.5.1-1-cp310-cp310-manylinux2014_x86_64.manylinux_2_17_x86_64.whl.metadata (699 bytes)\n",
            "Collecting etils>=1.6.0 (from etils[edc,enp,epath,epy,etree]>=1.6.0; python_version < \"3.11\"->tensorflow-datasets->tf-models-official==2.15.0->-r requirements.txt (line 1))\n",
            "  Downloading etils-1.10.0-py3-none-any.whl.metadata (6.5 kB)\n",
            "Requirement already satisfied: wheel<1.0,>=0.23.0 in /opt/conda/lib/python3.10/site-packages (from astunparse>=1.6.0->tensorflow~=2.15.0->tf-models-official==2.15.0->-r requirements.txt (line 1)) (0.42.0)\n",
            "Requirement already satisfied: fsspec in /opt/conda/lib/python3.10/site-packages (from etils[edc,enp,epath,epy,etree]>=1.6.0; python_version < \"3.11\"->tensorflow-datasets->tf-models-official==2.15.0->-r requirements.txt (line 1)) (2024.2.0)\n",
            "Collecting importlib_resources (from etils[edc,enp,epath,epy,etree]>=1.6.0; python_version < \"3.11\"->tensorflow-datasets->tf-models-official==2.15.0->-r requirements.txt (line 1))\n",
            "  Downloading importlib_resources-6.4.5-py3-none-any.whl.metadata (4.0 kB)\n",
            "Requirement already satisfied: zipp in /opt/conda/lib/python3.10/site-packages (from etils[edc,enp,epath,epy,etree]>=1.6.0; python_version < \"3.11\"->tensorflow-datasets->tf-models-official==2.15.0->-r requirements.txt (line 1)) (3.17.0)\n",
            "Requirement already satisfied: googleapis-common-protos<2.0dev,>=1.56.2 in /opt/conda/lib/python3.10/site-packages (from google-api-core!=2.0.*,!=2.1.*,!=2.2.*,!=2.3.0,<3.0.0.dev0,>=1.31.5->google-api-python-client>=1.6.7->tf-models-official==2.15.0->-r requirements.txt (line 1)) (1.56.4)\n",
            "Requirement already satisfied: cachetools<6.0,>=2.0.0 in /opt/conda/lib/python3.10/site-packages (from google-auth<3.0.0.dev0,>=1.19.0->google-api-python-client>=1.6.7->tf-models-official==2.15.0->-r requirements.txt (line 1)) (5.3.2)\n",
            "Requirement already satisfied: charset-normalizer<4,>=2 in /opt/conda/lib/python3.10/site-packages (from requests->kaggle>=1.3.9->tf-models-official==2.15.0->-r requirements.txt (line 1)) (3.3.2)\n",
            "Requirement already satisfied: idna<4,>=2.5 in /opt/conda/lib/python3.10/site-packages (from requests->kaggle>=1.3.9->tf-models-official==2.15.0->-r requirements.txt (line 1)) (3.6)\n",
            "Requirement already satisfied: joblib>=0.11 in /opt/conda/lib/python3.10/site-packages (from scikit-learn>=0.21.3->seqeval->tf-models-official==2.15.0->-r requirements.txt (line 1)) (1.3.2)\n",
            "Requirement already satisfied: threadpoolctl>=2.0.0 in /opt/conda/lib/python3.10/site-packages (from scikit-learn>=0.21.3->seqeval->tf-models-official==2.15.0->-r requirements.txt (line 1)) (3.3.0)\n",
            "Collecting google-auth-oauthlib<2,>=0.5 (from tensorboard<2.16,>=2.15->tensorflow~=2.15.0->tf-models-official==2.15.0->-r requirements.txt (line 1))\n",
            "  Downloading google_auth_oauthlib-1.2.1-py2.py3-none-any.whl.metadata (2.7 kB)\n",
            "Requirement already satisfied: markdown>=2.6.8 in /opt/conda/lib/python3.10/site-packages (from tensorboard<2.16,>=2.15->tensorflow~=2.15.0->tf-models-official==2.15.0->-r requirements.txt (line 1)) (3.5.2)\n",
            "Collecting tensorboard-data-server<0.8.0,>=0.7.0 (from tensorboard<2.16,>=2.15->tensorflow~=2.15.0->tf-models-official==2.15.0->-r requirements.txt (line 1))\n",
            "  Downloading tensorboard_data_server-0.7.2-py3-none-manylinux_2_31_x86_64.whl.metadata (1.1 kB)\n",
            "Requirement already satisfied: werkzeug>=1.0.1 in /opt/conda/lib/python3.10/site-packages (from tensorboard<2.16,>=2.15->tensorflow~=2.15.0->tf-models-official==2.15.0->-r requirements.txt (line 1)) (3.0.1)\n",
            "Collecting webencodings (from bleach->kaggle>=1.3.9->tf-models-official==2.15.0->-r requirements.txt (line 1))\n",
            "  Downloading webencodings-0.5.1-py2.py3-none-any.whl.metadata (2.1 kB)\n",
            "Collecting text-unidecode>=1.3 (from python-slugify->kaggle>=1.3.9->tf-models-official==2.15.0->-r requirements.txt (line 1))\n",
            "  Downloading text_unidecode-1.3-py2.py3-none-any.whl.metadata (2.4 kB)\n",
            "Collecting docstring-parser<1.0,>=0.15 (from simple-parsing->tensorflow-datasets->tf-models-official==2.15.0->-r requirements.txt (line 1))\n",
            "  Downloading docstring_parser-0.16-py3-none-any.whl.metadata (3.0 kB)\n",
            "Collecting protobuf>=3.19.6 (from tensorflow-hub==0.16.1->-r requirements.txt (line 3))\n",
            "  Downloading protobuf-3.20.3-cp310-cp310-manylinux_2_12_x86_64.manylinux2010_x86_64.whl.metadata (679 bytes)\n",
            "Requirement already satisfied: requests-oauthlib>=0.7.0 in /opt/conda/lib/python3.10/site-packages (from google-auth-oauthlib<2,>=0.5->tensorboard<2.16,>=2.15->tensorflow~=2.15.0->tf-models-official==2.15.0->-r requirements.txt (line 1)) (1.3.1)\n",
            "Requirement already satisfied: MarkupSafe>=2.1.1 in /opt/conda/lib/python3.10/site-packages (from werkzeug>=1.0.1->tensorboard<2.16,>=2.15->tensorflow~=2.15.0->tf-models-official==2.15.0->-r requirements.txt (line 1)) (2.1.5)\n",
            "Requirement already satisfied: oauthlib>=3.0.0 in /opt/conda/lib/python3.10/site-packages (from requests-oauthlib>=0.7.0->google-auth-oauthlib<2,>=0.5->tensorboard<2.16,>=2.15->tensorflow~=2.15.0->tf-models-official==2.15.0->-r requirements.txt (line 1)) (3.2.2)\n",
            "Downloading tf_models_official-2.15.0-py2.py3-none-any.whl (2.7 MB)\n",
            "   ━━━━━━━━━━━━━━━━━━━━━━━━━━━━━━━━━━━━━━━━ 2.7/2.7 MB 42.2 MB/s eta 0:00:00\n",
            "Downloading tensorflow_text-2.15.0-cp310-cp310-manylinux_2_17_x86_64.manylinux2014_x86_64.whl (5.2 MB)\n",
            "   ━━━━━━━━━━━━━━━━━━━━━━━━━━━━━━━━━━━━━━━━ 5.2/5.2 MB 86.0 MB/s eta 0:00:00\n",
            "Downloading tensorflow_hub-0.16.1-py2.py3-none-any.whl (30 kB)\n",
            "Downloading py_cpuinfo-9.0.0-py3-none-any.whl (22 kB)\n",
            "Downloading tensorflow-2.15.1-cp310-cp310-manylinux_2_17_x86_64.manylinux2014_x86_64.whl (475.2 MB)\n",
            "   ━━━━━━━━━━━━━━━━━━━━━━━━━━━━━━━━━━━━━━━━ 475.2/475.2 MB 2.8 MB/s eta 0:00:00\n",
            "Downloading tensorflow_model_optimization-0.8.0-py2.py3-none-any.whl (242 kB)\n",
            "   ━━━━━━━━━━━━━━━━━━━━━━━━━━━━━━━━━━━━━━━━ 242.5/242.5 kB 21.0 MB/s eta 0:00:00\n",
            "Downloading tf_keras-2.15.1-py3-none-any.whl (1.7 MB)\n",
            "   ━━━━━━━━━━━━━━━━━━━━━━━━━━━━━━━━━━━━━━━━ 1.7/1.7 MB 70.2 MB/s eta 0:00:00\n",
            "Downloading tf_slim-1.1.0-py2.py3-none-any.whl (352 kB)\n",
            "   ━━━━━━━━━━━━━━━━━━━━━━━━━━━━━━━━━━━━━━━━ 352.1/352.1 kB 19.7 MB/s eta 0:00:00\n",
            "Downloading gin_config-0.5.0-py3-none-any.whl (61 kB)\n",
            "   ━━━━━━━━━━━━━━━━━━━━━━━━━━━━━━━━━━━━━━━━ 61.3/61.3 kB 6.5 MB/s eta 0:00:00\n",
            "Downloading immutabledict-4.2.1-py3-none-any.whl (4.7 kB)\n",
            "Downloading opencv_python_headless-4.10.0.84-cp37-abi3-manylinux_2_17_x86_64.manylinux2014_x86_64.whl (49.9 MB)\n",
            "   ━━━━━━━━━━━━━━━━━━━━━━━━━━━━━━━━━━━━━━━━ 49.9/49.9 MB 39.0 MB/s eta 0:00:00\n",
            "Downloading pycocotools-2.0.8-cp310-cp310-manylinux_2_17_x86_64.manylinux2014_x86_64.whl (427 kB)\n",
            "   ━━━━━━━━━━━━━━━━━━━━━━━━━━━━━━━━━━━━━━━━ 427.8/427.8 kB 33.8 MB/s eta 0:00:00\n",
            "Downloading sacrebleu-2.4.3-py3-none-any.whl (103 kB)\n",
            "   ━━━━━━━━━━━━━━━━━━━━━━━━━━━━━━━━━━━━━━━━ 104.0/104.0 kB 12.2 MB/s eta 0:00:00\n",
            "Downloading sentencepiece-0.2.0-cp310-cp310-manylinux_2_17_x86_64.manylinux2014_x86_64.whl (1.3 MB)\n",
            "   ━━━━━━━━━━━━━━━━━━━━━━━━━━━━━━━━━━━━━━━━ 1.3/1.3 MB 61.0 MB/s eta 0:00:00\n",
            "Downloading tensorflow_datasets-4.9.7-py3-none-any.whl (5.3 MB)\n",
            "   ━━━━━━━━━━━━━━━━━━━━━━━━━━━━━━━━━━━━━━━━ 5.3/5.3 MB 91.3 MB/s eta 0:00:00\n",
            "Downloading absl_py-1.4.0-py3-none-any.whl (126 kB)\n",
            "   ━━━━━━━━━━━━━━━━━━━━━━━━━━━━━━━━━━━━━━━━ 126.5/126.5 kB 14.0 MB/s eta 0:00:00\n",
            "Downloading array_record-0.5.1-1-cp310-cp310-manylinux2014_x86_64.manylinux_2_17_x86_64.whl (2.2 MB)\n",
            "   ━━━━━━━━━━━━━━━━━━━━━━━━━━━━━━━━━━━━━━━━ 2.2/2.2 MB 79.8 MB/s eta 0:00:00\n",
            "Downloading etils-1.10.0-py3-none-any.whl (164 kB)\n",
            "   ━━━━━━━━━━━━━━━━━━━━━━━━━━━━━━━━━━━━━━━━ 164.9/164.9 kB 17.2 MB/s eta 0:00:00\n",
            "Downloading keras-2.15.0-py3-none-any.whl (1.7 MB)\n",
            "   ━━━━━━━━━━━━━━━━━━━━━━━━━━━━━━━━━━━━━━━━ 1.7/1.7 MB 71.4 MB/s eta 0:00:00\n",
            "Downloading ml_dtypes-0.3.2-cp310-cp310-manylinux_2_17_x86_64.manylinux2014_x86_64.whl (2.2 MB)\n",
            "   ━━━━━━━━━━━━━━━━━━━━━━━━━━━━━━━━━━━━━━━━ 2.2/2.2 MB 71.2 MB/s eta 0:00:00\n",
            "Downloading tensorboard-2.15.2-py3-none-any.whl (5.5 MB)\n",
            "   ━━━━━━━━━━━━━━━━━━━━━━━━━━━━━━━━━━━━━━━━ 5.5/5.5 MB 90.6 MB/s eta 0:00:00\n",
            "Downloading tensorflow_estimator-2.15.0-py2.py3-none-any.whl (441 kB)\n",
            "   ━━━━━━━━━━━━━━━━━━━━━━━━━━━━━━━━━━━━━━━━ 442.0/442.0 kB 35.2 MB/s eta 0:00:00\n",
            "Downloading wrapt-1.14.1-cp310-cp310-manylinux_2_5_x86_64.manylinux1_x86_64.manylinux_2_17_x86_64.manylinux2014_x86_64.whl (77 kB)\n",
            "   ━━━━━━━━━━━━━━━━━━━━━━━━━━━━━━━━━━━━━━━━ 77.9/77.9 kB 9.3 MB/s eta 0:00:00\n",
            "Downloading bleach-6.2.0-py3-none-any.whl (163 kB)\n",
            "   ━━━━━━━━━━━━━━━━━━━━━━━━━━━━━━━━━━━━━━━━ 163.4/163.4 kB 17.7 MB/s eta 0:00:00\n",
            "Downloading lxml-5.3.0-cp310-cp310-manylinux_2_28_x86_64.whl (5.0 MB)\n",
            "   ━━━━━━━━━━━━━━━━━━━━━━━━━━━━━━━━━━━━━━━━ 5.0/5.0 MB 80.6 MB/s eta 0:00:00\n",
            "Downloading portalocker-3.0.0-py3-none-any.whl (19 kB)\n",
            "Downloading python_slugify-8.0.4-py2.py3-none-any.whl (10 kB)\n",
            "Downloading regex-2024.11.6-cp310-cp310-manylinux_2_17_x86_64.manylinux2014_x86_64.whl (781 kB)\n",
            "   ━━━━━━━━━━━━━━━━━━━━━━━━━━━━━━━━━━━━━━━━ 781.7/781.7 kB 49.0 MB/s eta 0:00:00\n",
            "Downloading simple_parsing-0.1.6-py3-none-any.whl (112 kB)\n",
            "   ━━━━━━━━━━━━━━━━━━━━━━━━━━━━━━━━━━━━━━━━ 112.6/112.6 kB 12.6 MB/s eta 0:00:00\n",
            "Downloading tensorflow_metadata-1.16.1-py3-none-any.whl (28 kB)\n",
            "Downloading protobuf-3.20.3-cp310-cp310-manylinux_2_12_x86_64.manylinux2010_x86_64.whl (1.1 MB)\n",
            "   ━━━━━━━━━━━━━━━━━━━━━━━━━━━━━━━━━━━━━━━━ 1.1/1.1 MB 53.0 MB/s eta 0:00:00\n",
            "Downloading toml-0.10.2-py2.py3-none-any.whl (16 kB)\n",
            "Downloading docstring_parser-0.16-py3-none-any.whl (36 kB)\n",
            "Downloading google_auth_oauthlib-1.2.1-py2.py3-none-any.whl (24 kB)\n",
            "Downloading tensorboard_data_server-0.7.2-py3-none-manylinux_2_31_x86_64.whl (6.6 MB)\n",
            "   ━━━━━━━━━━━━━━━━━━━━━━━━━━━━━━━━━━━━━━━━ 6.6/6.6 MB 92.0 MB/s eta 0:00:00\n",
            "Downloading text_unidecode-1.3-py2.py3-none-any.whl (78 kB)\n",
            "   ━━━━━━━━━━━━━━━━━━━━━━━━━━━━━━━━━━━━━━━━ 78.2/78.2 kB 9.2 MB/s eta 0:00:00\n",
            "Downloading importlib_resources-6.4.5-py3-none-any.whl (36 kB)\n",
            "Downloading webencodings-0.5.1-py2.py3-none-any.whl (11 kB)\n",
            "Building wheels for collected packages: kaggle, seqeval, promise\n",
            "  Building wheel for kaggle (setup.py): started\n",
            "  Building wheel for kaggle (setup.py): finished with status 'done'\n",
            "  Created wheel for kaggle: filename=kaggle-1.6.17-py3-none-any.whl size=105786 sha256=b2bc5320d81e04a6051df062c4ed4460a3c67ef46e7f279fd18982385e58673b\n",
            "  Stored in directory: /root/.cache/pip/wheels/9f/af/22/bf406f913dc7506a485e60dce8143741abd0a92a19337d83a3\n",
            "  Building wheel for seqeval (setup.py): started\n",
            "  Building wheel for seqeval (setup.py): finished with status 'done'\n",
            "  Created wheel for seqeval: filename=seqeval-1.2.2-py3-none-any.whl size=16162 sha256=7a571f3e5008d7647a217feb994e2b5bd16d7e63f11bb4923721905bfac54d0b\n",
            "  Stored in directory: /root/.cache/pip/wheels/1a/67/4a/ad4082dd7dfc30f2abfe4d80a2ed5926a506eb8a972b4767fa\n",
            "  Building wheel for promise (setup.py): started\n",
            "  Building wheel for promise (setup.py): finished with status 'done'\n",
            "  Created wheel for promise: filename=promise-2.3-py3-none-any.whl size=21483 sha256=03615f2a878680f937d5516c8553c4c6f05b11d788aa18846e58b97a1fa9d802\n",
            "  Stored in directory: /root/.cache/pip/wheels/54/4e/28/3ed0e1c8a752867445bab994d2340724928aa3ab059c57c8db\n",
            "Successfully built kaggle seqeval promise\n",
            "Installing collected packages: webencodings, text-unidecode, sentencepiece, py-cpuinfo, gin-config, wrapt, toml, tensorflow-estimator, tensorboard-data-server, regex, python-slugify, protobuf, promise, portalocker, opencv-python-headless, ml-dtypes, lxml, keras, importlib_resources, immutabledict, etils, docstring-parser, bleach, absl-py, tf-slim, tensorflow-model-optimization, tensorflow-metadata, simple-parsing, sacrebleu, kaggle, seqeval, pycocotools, google-auth-oauthlib, tensorboard, array-record, tensorflow, tf-keras, tensorflow-datasets, tensorflow-hub, tensorflow-text, tf-models-official\n",
            "  Attempting uninstall: wrapt\n",
            "    Found existing installation: wrapt 1.16.0\n",
            "    Uninstalling wrapt-1.16.0:\n",
            "      Successfully uninstalled wrapt-1.16.0\n",
            "  Attempting uninstall: tensorflow-estimator\n",
            "    Found existing installation: tensorflow-estimator 2.11.0\n",
            "    Uninstalling tensorflow-estimator-2.11.0:\n",
            "      Successfully uninstalled tensorflow-estimator-2.11.0\n",
            "  Attempting uninstall: tensorboard-data-server\n",
            "    Found existing installation: tensorboard-data-server 0.6.1\n",
            "    Uninstalling tensorboard-data-server-0.6.1:\n",
            "      Successfully uninstalled tensorboard-data-server-0.6.1\n",
            "  Attempting uninstall: protobuf\n",
            "    Found existing installation: protobuf 3.20.1\n",
            "    Uninstalling protobuf-3.20.1:\n",
            "      Successfully uninstalled protobuf-3.20.1\n",
            "  Attempting uninstall: keras\n",
            "    Found existing installation: keras 2.11.0\n",
            "    Uninstalling keras-2.11.0:\n",
            "      Successfully uninstalled keras-2.11.0\n",
            "  Attempting uninstall: absl-py\n",
            "    Found existing installation: absl-py 2.1.0\n",
            "    Uninstalling absl-py-2.1.0:\n",
            "      Successfully uninstalled absl-py-2.1.0\n",
            "  Attempting uninstall: google-auth-oauthlib\n",
            "    Found existing installation: google-auth-oauthlib 0.4.6\n",
            "    Uninstalling google-auth-oauthlib-0.4.6:\n",
            "      Successfully uninstalled google-auth-oauthlib-0.4.6\n",
            "  Attempting uninstall: tensorboard\n",
            "    Found existing installation: tensorboard 2.11.2\n",
            "    Uninstalling tensorboard-2.11.2:\n",
            "      Successfully uninstalled tensorboard-2.11.2\n",
            "  Attempting uninstall: tensorflow\n",
            "    Found existing installation: tensorflow 2.11.0\n",
            "    Uninstalling tensorflow-2.11.0:\n",
            "      Successfully uninstalled tensorflow-2.11.0\n",
            "\u001b[91mERROR: pip's dependency resolver does not currently take into account all the packages that are installed. This behaviour is the source of the following dependency conflicts.\n",
            "tensorflow-serving-api 2.11.0 requires protobuf<3.20,>=3.9.2, but you have protobuf 3.20.3 which is incompatible.\n",
            "\u001b[0mSuccessfully installed absl-py-1.4.0 array-record-0.5.1 bleach-6.2.0 docstring-parser-0.16 etils-1.10.0 gin-config-0.5.0 google-auth-oauthlib-1.2.1 immutabledict-4.2.1 importlib_resources-6.4.5 kaggle-1.6.17 keras-2.15.0 lxml-5.3.0 ml-dtypes-0.3.2 opencv-python-headless-4.10.0.84 portalocker-3.0.0 promise-2.3 protobuf-3.20.3 py-cpuinfo-9.0.0 pycocotools-2.0.8 python-slugify-8.0.4 regex-2024.11.6 sacrebleu-2.4.3 sentencepiece-0.2.0 seqeval-1.2.2 simple-parsing-0.1.6 tensorboard-2.15.2 tensorboard-data-server-0.7.2 tensorflow-2.15.1 tensorflow-datasets-4.9.7 tensorflow-estimator-2.15.0 tensorflow-hub-0.16.1 tensorflow-metadata-1.16.1 tensorflow-model-optimization-0.8.0 tensorflow-text-2.15.0 text-unidecode-1.3 tf-keras-2.15.1 tf-models-official-2.15.0 tf-slim-1.1.0 toml-0.10.2 webencodings-0.5.1 wrapt-1.14.1\n",
            "\u001b[91mWARNING: Running pip as the 'root' user can result in broken permissions and conflicting behaviour with the system package manager. It is recommended to use a virtual environment instead: https://pip.pypa.io/warnings/venv\n",
            "\u001b[0mRemoving intermediate container d0ff29da71ab\n",
            " ---> 36598eeef730\n",
            "Step 5/8 : RUN rm -rf /var/sitecustomize/sitecustomize.py\n",
            " ---> Running in 52e17617d499\n",
            "Removing intermediate container 52e17617d499\n",
            " ---> 719104c110e3\n",
            "Step 6/8 : COPY . /trainer\n",
            " ---> ec0d11405959\n",
            "Step 7/8 : WORKDIR /trainer\n",
            " ---> Running in 900b2478e9b4\n",
            "Removing intermediate container 900b2478e9b4\n",
            " ---> e881cd906c7e\n",
            "Step 8/8 : ENTRYPOINT [\"python\", \"-m\", \"trainer.task\"]\n",
            " ---> Running in 4205b460e2d5\n",
            "Removing intermediate container 4205b460e2d5\n",
            " ---> 8e363b36af90\n",
            "Successfully built 8e363b36af90\n",
            "Successfully tagged us-east1-docker.pkg.dev/qwiklabs-gcp-02-d1e31d62172f/bert-sentiment-classifier/bert-sentiment-classifier:latest\n",
            "PUSH\n",
            "Pushing us-east1-docker.pkg.dev/qwiklabs-gcp-02-d1e31d62172f/bert-sentiment-classifier/bert-sentiment-classifier:latest\n",
            "The push refers to repository [us-east1-docker.pkg.dev/qwiklabs-gcp-02-d1e31d62172f/bert-sentiment-classifier/bert-sentiment-classifier]\n",
            "9bb2bbbbbb9a: Preparing\n",
            "ec2a0ced82dc: Preparing\n",
            "7824be243fec: Preparing\n",
            "d5d8dcb2a478: Preparing\n",
            "e42695c7b436: Preparing\n",
            "e42695c7b436: Preparing\n",
            "7e34967c8575: Preparing\n",
            "03aa2a4bdb68: Preparing\n",
            "69ff3552dab2: Preparing\n",
            "bde9e2053036: Preparing\n",
            "bde9e2053036: Preparing\n",
            "b253aec57174: Preparing\n",
            "e9a5c35692b6: Preparing\n",
            "5ca5a09f80b2: Preparing\n",
            "f27306b95858: Preparing\n",
            "e96984247094: Preparing\n",
            "bf89224ff876: Preparing\n",
            "ca7739d6661c: Preparing\n",
            "ca7739d6661c: Preparing\n",
            "6afff9338181: Preparing\n",
            "5f70bf18a086: Preparing\n",
            "380cd88b9fb2: Preparing\n",
            "25c9ddea4aaa: Preparing\n",
            "eec152ec24b8: Preparing\n",
            "dd7d6ac03700: Preparing\n",
            "be9dc4e2456b: Preparing\n",
            "ceab7f116eb5: Preparing\n",
            "bd5ff18df433: Preparing\n",
            "a27f4aa3db94: Preparing\n",
            "1a102d1cac2b: Preparing\n",
            "7e34967c8575: Waiting\n",
            "03aa2a4bdb68: Waiting\n",
            "69ff3552dab2: Waiting\n",
            "bde9e2053036: Waiting\n",
            "b253aec57174: Waiting\n",
            "25c9ddea4aaa: Waiting\n",
            "e9a5c35692b6: Waiting\n",
            "eec152ec24b8: Waiting\n",
            "dd7d6ac03700: Waiting\n",
            "5ca5a09f80b2: Waiting\n",
            "be9dc4e2456b: Waiting\n",
            "f27306b95858: Waiting\n",
            "e96984247094: Waiting\n",
            "ceab7f116eb5: Waiting\n",
            "bf89224ff876: Waiting\n",
            "bd5ff18df433: Waiting\n",
            "ca7739d6661c: Waiting\n",
            "a27f4aa3db94: Waiting\n",
            "6afff9338181: Waiting\n",
            "1a102d1cac2b: Waiting\n",
            "5f70bf18a086: Waiting\n",
            "380cd88b9fb2: Waiting\n",
            "d5d8dcb2a478: Pushed\n",
            "9bb2bbbbbb9a: Pushed\n",
            "ec2a0ced82dc: Pushed\n",
            "e42695c7b436: Pushed\n",
            "7e34967c8575: Pushed\n",
            "03aa2a4bdb68: Pushed\n",
            "69ff3552dab2: Pushed\n",
            "bde9e2053036: Pushed\n",
            "b253aec57174: Pushed\n",
            "e9a5c35692b6: Pushed\n",
            "f27306b95858: Pushed\n",
            "bf89224ff876: Pushed\n",
            "ca7739d6661c: Pushed\n",
            "5f70bf18a086: Layer already exists\n",
            "6afff9338181: Pushed\n"
          ]
        }
      ],
      "source": [
        "# TODO: use Cloud Build to build and submit your custom model container to your Artifact Registry.\n",
        "# Documentation link: https://cloud.google.com/sdk/gcloud/reference/builds/submit\n",
        "# Hint: make sure the config flag is pointed at `{MODEL_DIR}/cloudbuild.yaml` defined above and you include your model directory as {MODEL_DIR}. Also, add a timeout flag.\n",
        "!gcloud builds submit {MODEL_DIR} --timeout=20m --config {MODEL_DIR}/cloudbuild.yaml\n"
      ]
    },
    {
      "cell_type": "markdown",
      "id": "8cee35ac-ab83-472d-ab18-f622f3e3bc31",
      "metadata": {
        "id": "8cee35ac-ab83-472d-ab18-f622f3e3bc31"
      },
      "source": [
        "## Define a pipeline using the KFP V2 SDK"
      ]
    },
    {
      "cell_type": "markdown",
      "id": "c5556979-3583-44fd-86df-d30fab8d9464",
      "metadata": {
        "id": "c5556979-3583-44fd-86df-d30fab8d9464"
      },
      "source": [
        "To address your business requirements and get your higher performing model into production to deliver value faster, you will define a pipeline using the [**Kubeflow Pipelines (KFP) V2 SDK**](https://www.kubeflow.org/docs/components/pipelines/sdk/v2/v2-compatibility) to orchestrate the training and deployment of your model on [**Vertex Pipelines**](https://cloud.google.com/vertex-ai/docs/pipelines) below."
      ]
    },
    {
      "cell_type": "code",
      "execution_count": null,
      "id": "aef0e36b-3cb8-4660-bbb1-a5dcca49aebe",
      "metadata": {
        "tags": [],
        "id": "aef0e36b-3cb8-4660-bbb1-a5dcca49aebe"
      },
      "outputs": [],
      "source": [
        "import datetime\n",
        "# google_cloud_pipeline_components includes pre-built KFP components for interfacing with Vertex AI services.\n",
        "from google_cloud_pipeline_components import aiplatform as gcc_aip\n",
        "from kfp.v2 import dsl"
      ]
    },
    {
      "cell_type": "code",
      "execution_count": null,
      "id": "c95f7070-d6e5-47ab-a860-d6a7e7892164",
      "metadata": {
        "tags": [],
        "id": "c95f7070-d6e5-47ab-a860-d6a7e7892164"
      },
      "outputs": [],
      "source": [
        "TIMESTAMP=datetime.datetime.now().strftime('%Y%m%d%H%M%S')\n",
        "DISPLAY_NAME = \"bert-sentiment-{}\".format(TIMESTAMP)\n",
        "GCS_BASE_OUTPUT_DIR= f\"{GCS_BUCKET}/{MODEL_DIR}-{TIMESTAMP}\"\n",
        "\n",
        "USER = \"student-02-01c706e98bcc@qwiklabs.net\"  # TODO: change this to your name.\n",
        "PIPELINE_ROOT = \"{}/pipeline_root/{}\".format(GCS_BUCKET, USER)\n",
        "\n",
        "print(f\"Model display name: {DISPLAY_NAME}\")\n",
        "print(f\"GCS dir for model training artifacts: {GCS_BASE_OUTPUT_DIR}\")\n",
        "print(f\"GCS dir for pipeline artifacts: {PIPELINE_ROOT}\")"
      ]
    },
    {
      "cell_type": "code",
      "execution_count": null,
      "id": "f4aecd42-c969-4ce0-a49a-9150c45a91e2",
      "metadata": {
        "tags": [],
        "id": "f4aecd42-c969-4ce0-a49a-9150c45a91e2"
      },
      "outputs": [],
      "source": [
        "# Pre-built Vertex model serving container for deployment.\n",
        "# https://cloud.google.com/vertex-ai/docs/predictions/pre-built-containers\n",
        "SERVING_IMAGE_URI = \"us-docker.pkg.dev/vertex-ai/prediction/tf2-cpu.2-11:latest\""
      ]
    },
    {
      "cell_type": "markdown",
      "id": "0f5e8dbc-04b3-4193-87f5-984d2b98a2d0",
      "metadata": {
        "id": "0f5e8dbc-04b3-4193-87f5-984d2b98a2d0"
      },
      "source": [
        "The pipeline consists of three components:\n",
        "\n",
        "* `CustomContainerTrainingJobRunOp` [(documentation)](https://google-cloud-pipeline-components.readthedocs.io/en/google-cloud-pipeline-components-0.2.0/google_cloud_pipeline_components.aiplatform.html#google_cloud_pipeline_components.aiplatform.CustomContainerTrainingJobRunOp): trains your custom model container using Vertex Training. This is the same as configuring a Vertex Custom Container Training Job using the Vertex Python SDK you covered in the Vertex AI: Qwik Start lab.\n",
        "\n",
        "*  `EndpointCreateOp` [(documentation)](https://google-cloud-pipeline-components.readthedocs.io/en/google-cloud-pipeline-components-0.2.0/google_cloud_pipeline_components.aiplatform.html#google_cloud_pipeline_components.aiplatform.EndpointCreateOp): Creates a Google Cloud Vertex Endpoint resource that maps physical machine resources with your model to enable it to serve online predictions. Online predictions have low latency requirements; providing resources to the model in advance reduces latency.\n",
        "\n",
        "* `ModelDeployOp`[(documentation)](https://google-cloud-pipeline-components.readthedocs.io/en/google-cloud-pipeline-components-0.2.0/google_cloud_pipeline_components.aiplatform.html#google_cloud_pipeline_components.aiplatform.ModelDeployOp): deploys your model to a Vertex Prediction Endpoint for online predictions."
      ]
    },
    {
      "cell_type": "code",
      "execution_count": null,
      "id": "d2181f3d-10cd-49c8-8e2f-e5c314940321",
      "metadata": {
        "tags": [],
        "id": "d2181f3d-10cd-49c8-8e2f-e5c314940321"
      },
      "outputs": [],
      "source": [
        "@dsl.pipeline(name=\"bert-sentiment-classification\", pipeline_root=PIPELINE_ROOT)\n",
        "def pipeline(\n",
        "    project: str = PROJECT_ID,\n",
        "    location: str = REGION,\n",
        "    staging_bucket: str = GCS_BUCKET,\n",
        "    display_name: str = DISPLAY_NAME,\n",
        "    container_uri: str = IMAGE_URI,\n",
        "    model_serving_container_image_uri: str = SERVING_IMAGE_URI,\n",
        "    base_output_dir: str = GCS_BASE_OUTPUT_DIR,\n",
        "):\n",
        "\n",
        "    #TODO: add and configure the pre-built KFP CustomContainerTrainingJobRunOp component using\n",
        "    # the remaining arguments of the pipeline constructor as defined in the starting of this cell.\n",
        "    # Hint: Refer to the component documentation link above if needed as well.\n",
        "    model_train_evaluate_op = gcc_aip.CustomContainerTrainingJobRunOp(\n",
        "        # Vertex AI Python SDK authentication parameters.\n",
        "        project=project,\n",
        "        location=location,\n",
        "        staging_bucket=staging_bucket,\n",
        "        # WorkerPool arguments.\n",
        "        replica_count=1,\n",
        "        machine_type=\"e2-standard-4\",\n",
        "        # TODO: fill in the remaining arguments from the pipeline definition.\n",
        "        display_name=display_name,\n",
        "            container_uri=container_uri,\n",
        "            model_serving_container_image_uri=model_serving_container_image_uri,\n",
        "            base_output_dir= gCS_BASE_OUTPUT_DIR,\n",
        "\n",
        "    )\n",
        "\n",
        "    # Create a Vertex Endpoint resource in parallel with model training.\n",
        "    endpoint_create_op = gcc_aip.EndpointCreateOp(\n",
        "        # Vertex AI Python SDK authentication parameters.\n",
        "        project=project,\n",
        "        location=location,\n",
        "        display_name=display_name\n",
        "\n",
        "    )\n",
        "\n",
        "    # Deploy your model to the created Endpoint resource for online predictions.\n",
        "    model_deploy_op = gcc_aip.ModelDeployOp(\n",
        "        # Link to model training component through output model artifact.\n",
        "        model=model_train_evaluate_op.outputs[\"model\"],\n",
        "        # Link to the created Endpoint.\n",
        "        endpoint=endpoint_create_op.outputs[\"endpoint\"],\n",
        "        # Define prediction request routing. {\"0\": 100} indicates 100% of traffic\n",
        "        # to the ID of the current model being deployed.\n",
        "        traffic_split={\"0\": 100},\n",
        "        # WorkerPool arguments.\n",
        "        dedicated_resources_machine_type=\"e2-standard-4\",\n",
        "        dedicated_resources_min_replica_count=1,\n",
        "        dedicated_resources_max_replica_count=2\n",
        "    )"
      ]
    },
    {
      "cell_type": "markdown",
      "id": "783114fd-731b-4bad-bbe2-7a858e621fca",
      "metadata": {
        "id": "783114fd-731b-4bad-bbe2-7a858e621fca"
      },
      "source": [
        "## Compile the pipeline"
      ]
    },
    {
      "cell_type": "code",
      "execution_count": null,
      "id": "eb28dac2-3721-4fe6-9e01-98745b0d1aba",
      "metadata": {
        "id": "eb28dac2-3721-4fe6-9e01-98745b0d1aba"
      },
      "outputs": [],
      "source": [
        "from kfp.v2 import compiler"
      ]
    },
    {
      "cell_type": "code",
      "execution_count": null,
      "id": "77355b83-577b-4831-9862-91e08e974256",
      "metadata": {
        "id": "77355b83-577b-4831-9862-91e08e974256"
      },
      "outputs": [],
      "source": [
        "compiler.Compiler().compile(\n",
        "    pipeline_func=pipeline, package_path=\"bert-sentiment-classification.json\"\n",
        ")"
      ]
    },
    {
      "cell_type": "markdown",
      "id": "793cda30-4046-4d29-abdd-501c243f5eee",
      "metadata": {
        "id": "793cda30-4046-4d29-abdd-501c243f5eee"
      },
      "source": [
        "## Run the pipeline on Vertex Pipelines"
      ]
    },
    {
      "cell_type": "markdown",
      "id": "35be420d-9d1d-4e8e-a08a-658fdfd60eb0",
      "metadata": {
        "id": "35be420d-9d1d-4e8e-a08a-658fdfd60eb0"
      },
      "source": [
        "The `PipelineJob` is configured below and triggered through the `run()` method.\n",
        "\n",
        "**Note:** This pipeline run will take around **30-40** minutes to train and deploy your model. Follow along with the execution using the URL from the job output below."
      ]
    },
    {
      "cell_type": "code",
      "execution_count": null,
      "id": "f276575d-c2ba-4d08-9a2a-b7583af27aee",
      "metadata": {
        "id": "f276575d-c2ba-4d08-9a2a-b7583af27aee"
      },
      "outputs": [],
      "source": [
        "vertex_pipelines_job = vertexai.pipeline_jobs.PipelineJob(\n",
        "    display_name=\"bert-sentiment-classification\",\n",
        "    template_path=\"bert-sentiment-classification.json\",\n",
        "    parameter_values={\n",
        "        \"project\": PROJECT_ID,\n",
        "        \"location\": REGION,\n",
        "        \"staging_bucket\": GCS_BUCKET,\n",
        "        \"display_name\": DISPLAY_NAME,\n",
        "        \"container_uri\": IMAGE_URI,\n",
        "        \"model_serving_container_image_uri\": SERVING_IMAGE_URI,\n",
        "        \"base_output_dir\": GCS_BASE_OUTPUT_DIR},\n",
        "    enable_caching=True,\n",
        ")"
      ]
    },
    {
      "cell_type": "code",
      "execution_count": null,
      "id": "f0ab35e9-207c-49ea-8a27-6e6cddce8541",
      "metadata": {
        "id": "f0ab35e9-207c-49ea-8a27-6e6cddce8541"
      },
      "outputs": [],
      "source": [
        "vertex_pipelines_job.run()"
      ]
    },
    {
      "cell_type": "markdown",
      "id": "319a821a-a3bd-45bf-a9ea-aa18687218f6",
      "metadata": {
        "id": "319a821a-a3bd-45bf-a9ea-aa18687218f6"
      },
      "source": [
        "## Query the deployed model using your Vertex endpoint"
      ]
    },
    {
      "cell_type": "markdown",
      "id": "6bfd8366-d362-4537-ab30-21c21fce6846",
      "metadata": {
        "id": "6bfd8366-d362-4537-ab30-21c21fce6846"
      },
      "source": [
        "Finally, you will retrieve the `Endpoint` deployed by the pipeline and use it to query your model for online predictions.\n",
        "\n",
        "Configure the `Endpoint()` function below with the following parameters:\n",
        "\n",
        "*  `endpoint_name`: A fully-qualified endpoint resource name or endpoint ID. Example: \"projects/123/locations/us-central1/endpoints/456\" or \"456\" when project and location are initialized or passed.\n",
        "*  `project_id`: GCP project.\n",
        "*  `location`: GCP region.\n",
        "\n",
        "Call `predict()` to return a prediction for a test review."
      ]
    },
    {
      "cell_type": "code",
      "execution_count": null,
      "id": "bf80748b-8907-4ad6-8adb-d4c394752257",
      "metadata": {
        "id": "bf80748b-8907-4ad6-8adb-d4c394752257"
      },
      "outputs": [],
      "source": [
        "# Retrieve your deployed Endpoint name from your pipeline.\n",
        "ENDPOINT_NAME = vertexai.Endpoint.list()[0].name"
      ]
    },
    {
      "cell_type": "code",
      "execution_count": null,
      "id": "c67c989d-1026-4f57-8dac-dafad01145a8",
      "metadata": {
        "id": "c67c989d-1026-4f57-8dac-dafad01145a8"
      },
      "outputs": [],
      "source": [
        "#TODO: Generate online predictions using your Vertex Endpoint.\n",
        "#Hint: You need to add the following variables: endpoint_name, project, location, with their required values.\n",
        "\n",
        "endpoint = vertexai.Endpoint(\n",
        "    endpoint_name=ENDPOINT_NAME,\n",
        "    project=PROJECT_ID,\n",
        "    location=REGION\n",
        ")"
      ]
    },
    {
      "cell_type": "code",
      "execution_count": null,
      "id": "97759f45-e060-44ce-87fc-4d34c4b8cadf",
      "metadata": {
        "id": "97759f45-e060-44ce-87fc-4d34c4b8cadf"
      },
      "outputs": [],
      "source": [
        "#TODO: write a movie review to test your model e.g. \"The Dark Knight is the best Batman movie!\"\n",
        "test_review = \"The Dark Knight is the best Batman movie!\""
      ]
    },
    {
      "cell_type": "code",
      "execution_count": null,
      "id": "71c008ce-90ad-4709-a24f-36b414c779e0",
      "metadata": {
        "id": "71c008ce-90ad-4709-a24f-36b414c779e0"
      },
      "outputs": [],
      "source": [
        "# TODO: use your Endpoint to return prediction for your 'test_review' using 'endpoint.predict()' method.\n",
        "prediction =endpoint.predict([test_review])"
      ]
    },
    {
      "cell_type": "code",
      "execution_count": null,
      "id": "54751a3e-7b2a-4ab8-b642-6533df27de82",
      "metadata": {
        "id": "54751a3e-7b2a-4ab8-b642-6533df27de82"
      },
      "outputs": [],
      "source": [
        "print(prediction)"
      ]
    },
    {
      "cell_type": "code",
      "execution_count": null,
      "id": "c4a4c68e-a937-44f8-b64a-cbe9e607cb90",
      "metadata": {
        "id": "c4a4c68e-a937-44f8-b64a-cbe9e607cb90"
      },
      "outputs": [],
      "source": [
        "# Use a sigmoid function to compress your model output between 0 and 1. For binary classification, a threshold of 0.5 is typically applied\n",
        "# so if the output is >= 0.5 then the predicted sentiment is \"Positive\" and < 0.5 is a \"Negative\" prediction.\n",
        "print(tf.sigmoid(prediction.predictions[0]))"
      ]
    },
    {
      "cell_type": "markdown",
      "id": "5344e3eb-0a0e-4271-b815-e792d8c95b66",
      "metadata": {
        "id": "5344e3eb-0a0e-4271-b815-e792d8c95b66"
      },
      "source": [
        "## Next steps"
      ]
    },
    {
      "cell_type": "markdown",
      "id": "80557132-f0cf-4f4d-be5d-2c58453bc6b6",
      "metadata": {
        "id": "80557132-f0cf-4f4d-be5d-2c58453bc6b6"
      },
      "source": [
        "Congratulations! You walked through a full experimentation, containerization, and MLOps workflow on Vertex AI. First, you built, trained, and evaluated a BERT sentiment classifier model in a Vertex Notebook. You then packaged your model code into a Docker container to train on Google Cloud's Vertex AI. Lastly, you defined and ran a Kubeflow Pipeline on Vertex Pipelines that trained and deployed your model container to a Vertex Endpoint that you queried for online predictions."
      ]
    },
    {
      "cell_type": "markdown",
      "id": "f6570ed8-a1ae-41e0-8a0b-9b63ca972d85",
      "metadata": {
        "id": "f6570ed8-a1ae-41e0-8a0b-9b63ca972d85"
      },
      "source": [
        "## License"
      ]
    },
    {
      "cell_type": "markdown",
      "id": "41c2c9ee-e982-4b8b-91c3-02f313896c6c",
      "metadata": {
        "id": "41c2c9ee-e982-4b8b-91c3-02f313896c6c"
      },
      "source": [
        "Copyright 2024 Google LLC\n",
        "\n",
        "Licensed under the Apache License, Version 2.0 (the \"License\");\n",
        "you may not use this file except in compliance with the License.\n",
        "You may obtain a copy of the License at\n",
        "\n",
        "    https://www.apache.org/licenses/LICENSE-2.0\n",
        "\n",
        "Unless required by applicable law or agreed to in writing, software\n",
        "distributed under the License is distributed on an \"AS IS\" BASIS,\n",
        "WITHOUT WARRANTIES OR CONDITIONS OF ANY KIND, either express or implied.\n",
        "See the License for the specific language governing permissions and\n",
        "limitations under the License."
      ]
    }
  ],
  "metadata": {
    "environment": {
      "kernel": "conda-base-py",
      "name": "workbench-notebooks.m126",
      "type": "gcloud",
      "uri": "us-docker.pkg.dev/deeplearning-platform-release/gcr.io/workbench-notebooks:m126"
    },
    "kernelspec": {
      "display_name": "Python 3 (ipykernel) (Local)",
      "language": "python",
      "name": "conda-base-py"
    },
    "language_info": {
      "codemirror_mode": {
        "name": "ipython",
        "version": 3
      },
      "file_extension": ".py",
      "mimetype": "text/x-python",
      "name": "python",
      "nbconvert_exporter": "python",
      "pygments_lexer": "ipython3",
      "version": "3.10.15"
    },
    "colab": {
      "provenance": [],
      "include_colab_link": true
    }
  },
  "nbformat": 4,
  "nbformat_minor": 5
}